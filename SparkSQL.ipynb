{
 "cells": [
  {
   "cell_type": "code",
   "execution_count": 1,
   "metadata": {},
   "outputs": [],
   "source": [
    "from pyspark.sql import SparkSession\n",
    "\n",
    "spark = SparkSession \\\n",
    "    .builder \\\n",
    "    .appName(\"Python Spark SQL basic example\") \\\n",
    "    .config(\"spark.some.config.option\", \"some-value\") \\\n",
    "    .getOrCreate()"
   ]
  },
  {
   "cell_type": "code",
   "execution_count": 6,
   "metadata": {},
   "outputs": [],
   "source": [
    "# spark is an existing SparkSession\n",
    "ac = spark.read.csv(\"hdfs://localhost:9000/user/lavish/data/acquisitions.csv\"\n",
    "                    , header='true', inferSchema='true')\n",
    "co= spark.read.csv(\"hdfs://localhost:9000/user/lavish/data/companies.csv\"\n",
    "                  , header='true', inferSchema='true')\n",
    "iv = spark.read.csv(\"hdfs://localhost:9000/user/lavish/data/investments.csv\"\n",
    "                   , header='true', inferSchema='true')\n",
    "# Displays the content of the DataFrame to stdout\n",
    "#ac.show()\n",
    "#co.show()\n",
    "#iv.show()\n"
   ]
  },
  {
   "cell_type": "code",
   "execution_count": 7,
   "metadata": {},
   "outputs": [],
   "source": [
    "# Register the DataFrame as a SQL temporary view\n",
    "ac.createOrReplaceTempView(\"acquisitions\")\n",
    "co.createOrReplaceTempView(\"companies\")\n",
    "iv.createOrReplaceTempView(\"investments\")\n",
    "\n",
    "    "
   ]
  },
  {
   "cell_type": "code",
   "execution_count": 11,
   "metadata": {},
   "outputs": [
    {
     "name": "stdout",
     "output_type": "stream",
     "text": [
      "+--------------------+--------------------+---------------------+--------------------+------------------+--------------------+-------------+--------------------+--------------------+----------------------+---------------------+-------------------+---------------+---------------+-----------+--------------+------------+-------------------+\n",
      "|   company_permalink|        company_name|company_category_list|company_country_code|company_state_code|      company_region| company_city|  acquirer_permalink|       acquirer_name|acquirer_category_list|acquirer_country_code|acquirer_state_code|acquirer_region|  acquirer_city|acquired_at|acquired_month|price_amount|price_currency_code|\n",
      "+--------------------+--------------------+---------------------+--------------------+------------------+--------------------+-------------+--------------------+--------------------+----------------------+---------------------+-------------------+---------------+---------------+-----------+--------------+------------+-------------------+\n",
      "|/organization/003-ru|              003.RU| Consumer Electron...|                 RUS|                48|              Moscow|       Moscow|/organization/med...|        Media Saturn|  Enterprise Softwa...|                  ESP|                 56|      Barcelona|      Barcelona| 2012-07-23|       2012-07|        null|                USD|\n",
      "|/organization/095...|   0958572 B.C. Ltd.|                 null|                null|              null|                null|         null|/organization/atl...|ATLAS Intellectua...|  Finance|FinTech|M...|                  USA|                 WA|        Seattle|        Seattle| 2012-02-02|       2012-02|     9000000|                USD|\n",
      "|/organization/1-8...|1-800 Communications|                 null|                 USA|                NY|         Long Island|   Hicksville|/organization/car...|      CarsDirect.com|            E-Commerce|                  USA|                 CA|    Los Angeles|     El Segundo| 2005-06-12|       2005-06|        null|                USD|\n",
      "|/organization/1-8...|      1-800 Contacts| Consumer Goods|Re...|                 USA|                UT|      Salt Lake City|       Draper|/organization/tho...|Thomas H. Lee Par...|  Business Developm...|                  USA|                 MA|         Boston|         Boston| 2014-01-07|       2014-01|        null|                USD|\n",
      "|/organization/1-8...|Games Support +1-...|                 null|                null|              null|                null|         null|/organization/pog...|Games Support +1-...|                  null|                  USA|                 NY|  New York City|     Mamaroneck| 2001-02-02|       2001-02|        null|                USD|\n",
      "|/organization/1-m...|        1 Mainstream| Apps|Cable|Distri...|                 USA|                CA|         SF Bay Area|    Cupertino| /organization/cisco|               Cisco|  Communications In...|                  USA|                 CA|    SF Bay Area|       San Jose| 2015-10-28|       2015-10|        null|                USD|\n",
      "|/organization/1-n...| 1 Nation Technology|                 null|                null|              null|                null|         null|/organization/vology|              Vology|  Computers|Hardwar...|                  USA|                 FL|          Tampa|        Oldsmar| 2006-01-01|       2006-01|        null|                USD|\n",
      "|/organization/100...|        1000 Markets| Art|E-Commerce|Ma...|                 USA|                WA|             Seattle|      Seattle|/organization/bon...|             Bonanza|  Art|Beauty|Collec...|                  USA|                 WA|        Seattle|        Seattle| 2012-09-22|       2012-09|        null|                USD|\n",
      "|/organization/100...|         1000cruises|                 null|                 DEU|                 4|             Hamburg|      Hamburg|/organization/dre...|          Dreamlines|  Online Travel|Shi...|                  DEU|                  4|        Hamburg|        Hamburg| 2013-11-14|       2013-11|        null|                USD|\n",
      "|/organization/100...|        1000memories|          Curated Web|                 USA|                CA|         SF Bay Area|San Francisco|/organization/anc...|            Ancestry|   E-Commerce|Internet|                  USA|                 UT| Salt Lake City|          Provo| 2012-10-03|       2012-10|        null|                USD|\n",
      "|/organization/100...|             100Plus|            Analytics|                 USA|                CA|         SF Bay Area|San Francisco|/organization/pra...|     Practice Fusion|  Electronic Health...|                  USA|                 CA|    SF Bay Area|  San Francisco| 2013-02-27|       2013-02|        null|                USD|\n",
      "|/organization/101...|            1010data|             Software|                 USA|                NY|       New York City|     New York|/organization/adv...|Advance Publications|                 Media|                  USA|                 NY|  New York City|  Staten Island| 2015-08-03|       2015-08|   500000000|                USD|\n",
      "|/organization/10best|              10best|          Curated Web|                 USA|                SC|Greenville - Spar...|   Greenville|/organization/nil...|           NileGuide|  Career Planning|S...|                  USA|                 CA|    SF Bay Area|  San Francisco| 2011-01-25|       2011-01|        null|                USD|\n",
      "|/organization/10east|              10East|          Web Hosting|                 USA|                FL|        Jacksonville| Jacksonville|/organization/rai...|  Railcar Management|   Enterprise Software|                 null|               null|           null|           null| 2009-04-14|       2009-04|        null|                USD|\n",
      "|/organization/10k...|          10K Wizard| Big Data|Database...|                null|              null|                null|         null|/organization/mor...|         Morningstar|  Investment Manage...|                  USA|                 IL|        Chicago|        Chicago| 2008-12-04|       2008-12|        null|                USD|\n",
      "|/organization/10s...|            10stamps| Big Data|Local Bu...|                 DEU|                 2|              Munich|       Munich|/organization/10s...|            10stamps|  Big Data|Local Bu...|                  DEU|                  2|         Munich|         Munich| 2015-11-23|       2015-11|        null|                USD|\n",
      "|/organization/10s...|            10stamps| Big Data|Local Bu...|                 DEU|                 2|              Munich|       Munich|/organization/wir...|            Wirecard|     Payments|Software|                  DEU|                  2|         Munich|         Munich| 2015-11-23|       2015-11|        null|                USD|\n",
      "|/organization/11-...|             11 Main|               Retail|                null|              null|                null|         null|/organization/ope...|             OpenSky|  E-Commerce|Social...|                  USA|                 NY|  New York City|       New York| 2015-06-23|       2015-06|        null|                USD|\n",
      "|/organization/118...|    118Boardshop.com|   Financial Services|                 USA|                CA|         Los Angeles|  Los Angeles|/organization/lef...|     LeftLane Sports|                Sports|                  USA|                 CA|San Luis Obispo|San Luis Obispo| 2011-10-01|       2011-10|        null|                USD|\n",
      "|/organization/123...|       123LinkIt.com| Advertising|Techn...|                null|              null|                null|         null|/organization/net...| NetLine Corporation|  Advertising|B2B|B...|                  USA|                 CA|    SF Bay Area|      Los Gatos| 2011-12-06|       2011-12|        null|                USD|\n",
      "+--------------------+--------------------+---------------------+--------------------+------------------+--------------------+-------------+--------------------+--------------------+----------------------+---------------------+-------------------+---------------+---------------+-----------+--------------+------------+-------------------+\n",
      "only showing top 20 rows\n",
      "\n"
     ]
    }
   ],
   "source": [
    "sqlDF = spark.sql(\"SELECT * FROM acquisitions\")\n",
    "sqlDF.show()"
   ]
  },
  {
   "cell_type": "code",
   "execution_count": null,
   "metadata": {},
   "outputs": [],
   "source": [
    "sqlDF = spark.sql(\"SELECT * FROM companies\")\n",
    "sqlDF.show()"
   ]
  },
  {
   "cell_type": "code",
   "execution_count": null,
   "metadata": {},
   "outputs": [],
   "source": [
    "sqlDF = spark.sql(\"SELECT * FROM investments\")\n",
    "sqlDF.show()"
   ]
  },
  {
   "cell_type": "code",
   "execution_count": null,
   "metadata": {},
   "outputs": [],
   "source": []
  }
 ],
 "metadata": {
  "kernelspec": {
   "display_name": "Python 3",
   "language": "python",
   "name": "python3"
  },
  "language_info": {
   "codemirror_mode": {
    "name": "ipython",
    "version": 3
   },
   "file_extension": ".py",
   "mimetype": "text/x-python",
   "name": "python",
   "nbconvert_exporter": "python",
   "pygments_lexer": "ipython3",
   "version": "3.6.9"
  }
 },
 "nbformat": 4,
 "nbformat_minor": 4
}
