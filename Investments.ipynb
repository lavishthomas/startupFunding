{
 "cells": [
  {
   "cell_type": "code",
   "execution_count": 629,
   "metadata": {},
   "outputs": [],
   "source": [
    "from pyspark.sql import SparkSession\n",
    "from pyspark.sql.functions import col, split, explode,substring, length\n",
    "from pyspark.sql.types import DecimalType\n",
    "from itertools import cycle\n",
    "import numpy as np\n",
    "import matplotlib.pyplot as plt\n",
    "%matplotlib inline"
   ]
  },
  {
   "cell_type": "code",
   "execution_count": 630,
   "metadata": {},
   "outputs": [],
   "source": [
    "spark = SparkSession \\\n",
    "    .builder \\\n",
    "    .appName(\"Python Spark SQL basic example\") \\\n",
    "    .config(\"spark.some.config.option\", \"some-value\") \\\n",
    "    .getOrCreate()"
   ]
  },
  {
   "cell_type": "code",
   "execution_count": 631,
   "metadata": {},
   "outputs": [],
   "source": [
    "# spark is an custom SparkSession based on some config to work with Jupyter notebooks\n",
    "iv = spark.read.csv(\"hdfs://localhost:9000/user/lavish/data/investments.csv\"\n",
    "                , header='true'\n",
    "                , inferSchema='true')"
   ]
  },
  {
   "cell_type": "code",
   "execution_count": 632,
   "metadata": {},
   "outputs": [],
   "source": [
    "startYear=1995\n",
    "endYear=2015"
   ]
  },
  {
   "cell_type": "code",
   "execution_count": 633,
   "metadata": {},
   "outputs": [
    {
     "data": {
      "text/plain": [
       "pyspark.sql.dataframe.DataFrame"
      ]
     },
     "execution_count": 633,
     "metadata": {},
     "output_type": "execute_result"
    }
   ],
   "source": [
    "type(iv)"
   ]
  },
  {
   "cell_type": "code",
   "execution_count": 634,
   "metadata": {},
   "outputs": [
    {
     "data": {
      "text/plain": [
       "['company_permalink',\n",
       " 'company_name',\n",
       " 'company_category_list',\n",
       " 'company_country_code',\n",
       " 'company_state_code',\n",
       " 'company_region',\n",
       " 'company_city',\n",
       " 'investor_permalink',\n",
       " 'investor_name',\n",
       " 'investor_country_code',\n",
       " 'investor_state_code',\n",
       " 'investor_region',\n",
       " 'investor_city',\n",
       " 'funding_round_permalink',\n",
       " 'funding_round_type',\n",
       " 'funding_round_code',\n",
       " 'funded_at',\n",
       " 'raised_amount_usd']"
      ]
     },
     "execution_count": 634,
     "metadata": {},
     "output_type": "execute_result"
    }
   ],
   "source": [
    "iv.schema.names"
   ]
  },
  {
   "cell_type": "code",
   "execution_count": 635,
   "metadata": {},
   "outputs": [],
   "source": [
    "filteredIV = iv.filter(iv.raised_amount_usd.isNotNull())"
   ]
  },
  {
   "cell_type": "code",
   "execution_count": 636,
   "metadata": {},
   "outputs": [],
   "source": [
    "from pyspark.sql.types import DoubleType\n",
    "splittedCategoryIV = filteredIV.select('raised_amount_usd',  substring('funded_at',-4,4).cast('int').alias('year')\n",
    "                       , split(col(\"company_category_list\")\n",
    "                       , \"[|]s*\").alias(\"categoryArr\"))"
   ]
  },
  {
   "cell_type": "code",
   "execution_count": 637,
   "metadata": {},
   "outputs": [],
   "source": [
    "explodedIV=splittedCategoryIV.select('raised_amount_usd','year', explode('categoryArr').alias('category'))"
   ]
  },
  {
   "cell_type": "code",
   "execution_count": 638,
   "metadata": {},
   "outputs": [
    {
     "name": "stdout",
     "output_type": "stream",
     "text": [
      "+-----------------+----+-----------+\n",
      "|raised_amount_usd|year|   category|\n",
      "+-----------------+----+-----------+\n",
      "|        2000000.0|2008|Curated Web|\n",
      "|          41250.0|2014|      Games|\n",
      "|            2.0E7|2015|  Analytics|\n",
      "|        3000000.0|2013|  Analytics|\n",
      "|            2.0E7|2015|  Analytics|\n",
      "|        1700000.0|2013|  Analytics|\n",
      "|        8900000.0|2014|  Analytics|\n",
      "|            2.0E7|2015|  Analytics|\n",
      "|            2.0E7|2015|  Analytics|\n",
      "|        8900000.0|2014|  Analytics|\n",
      "+-----------------+----+-----------+\n",
      "only showing top 10 rows\n",
      "\n"
     ]
    }
   ],
   "source": [
    "explodedIV.show(10)"
   ]
  },
  {
   "cell_type": "code",
   "execution_count": 639,
   "metadata": {},
   "outputs": [],
   "source": [
    "explodedIV.createOrReplaceTempView(\"investments\")"
   ]
  },
  {
   "cell_type": "code",
   "execution_count": 640,
   "metadata": {},
   "outputs": [
    {
     "name": "stdout",
     "output_type": "stream",
     "text": [
      "+-----------------+----+-----------+\n",
      "|raised_amount_usd|year|   category|\n",
      "+-----------------+----+-----------+\n",
      "|        2000000.0|2008|Curated Web|\n",
      "|          41250.0|2014|      Games|\n",
      "|            2.0E7|2015|  Analytics|\n",
      "|        3000000.0|2013|  Analytics|\n",
      "|            2.0E7|2015|  Analytics|\n",
      "|        1700000.0|2013|  Analytics|\n",
      "|        8900000.0|2014|  Analytics|\n",
      "|            2.0E7|2015|  Analytics|\n",
      "|            2.0E7|2015|  Analytics|\n",
      "|        8900000.0|2014|  Analytics|\n",
      "|        1700000.0|2013|  Analytics|\n",
      "|        1700000.0|2013|  Analytics|\n",
      "|        8900000.0|2014|  Analytics|\n",
      "|        8900000.0|2014|  Analytics|\n",
      "|        8900000.0|2014|  Analytics|\n",
      "|        8900000.0|2014|  Analytics|\n",
      "|         150000.0|2014|     Mobile|\n",
      "|        1000050.0|2011|     Mobile|\n",
      "|        1000050.0|2011|     Mobile|\n",
      "|         150000.0|2014|     Mobile|\n",
      "+-----------------+----+-----------+\n",
      "only showing top 20 rows\n",
      "\n"
     ]
    }
   ],
   "source": [
    "sqlDF = spark.sql(\"SELECT * FROM investments\")\n",
    "sqlDF.show()"
   ]
  },
  {
   "cell_type": "markdown",
   "metadata": {},
   "source": [
    "### Year Wise"
   ]
  },
  {
   "cell_type": "code",
   "execution_count": 641,
   "metadata": {},
   "outputs": [],
   "source": [
    "SQLQUERY =  \"\"\"\n",
    "            SELECT CATEGORY, \n",
    "            CAST(YEAR AS INT), \n",
    "            SUM(RAISED_AMOUNT_USD) AS TOTAL, \n",
    "            CAST(SUM(RAISED_AMOUNT_USD) AS DECIMAL(30)) AS TOTAL_DEC \n",
    "            FROM INVESTMENTS GROUP \n",
    "            BY CATEGORY, YEAR \n",
    "            \"\"\"\n",
    "#  ORDER BY YEAR DESC, TOTAL DESC"
   ]
  },
  {
   "cell_type": "code",
   "execution_count": 642,
   "metadata": {},
   "outputs": [
    {
     "name": "stdout",
     "output_type": "stream",
     "text": [
      "+--------------------+----+-----------------+----------+\n",
      "|            CATEGORY|YEAR|            TOTAL| TOTAL_DEC|\n",
      "+--------------------+----+-----------------+----------+\n",
      "|      Interest Graph|2011|           3.28E7|  32800000|\n",
      "|           Insurance|2015|  5.70529580149E9|5705295801|\n",
      "|  Big Data Analytics|2013|     2.35683979E9|2356839790|\n",
      "|           Aerospace|2014|4.6013734510098E8| 460137345|\n",
      "|               Audio|2005|          1.058E8| 105800000|\n",
      "|Cloud Infrastructure|2010|     1.38360796E8| 138360796|\n",
      "|    Cloud Management|2010|         5.4528E8| 545280000|\n",
      "|                Apps|2008|   6.3178257004E8| 631782570|\n",
      "| Insurance Companies|2015|    1.523851749E7|  15238517|\n",
      "|    Mobile Analytics|2010|          4.205E7|  42050000|\n",
      "|          Networking|2009|     5.39435025E8| 539435025|\n",
      "|               Local|2010|     1.50161942E8| 150161942|\n",
      "|Information Techn...|2000|     6.25112115E8| 625112115|\n",
      "|       Home & Garden|2007|         5.0605E8| 506050000|\n",
      "|        Ad Targeting|2010|       4.191857E8| 419185700|\n",
      "|Communications Ha...|2011|         5.5758E8| 557580000|\n",
      "|            Creative|2012|     1.65391911E8| 165391911|\n",
      "|               Women|2011|     1.00048667E8| 100048667|\n",
      "|      K-12 Education|2011|     1.81926358E8| 181926358|\n",
      "|   Online Scheduling|2012|         9.5505E7|  95505000|\n",
      "+--------------------+----+-----------------+----------+\n",
      "only showing top 20 rows\n",
      "\n"
     ]
    }
   ],
   "source": [
    "sqlDF = spark.sql(SQLQUERY)\n",
    "sqlDF.show()"
   ]
  },
  {
   "cell_type": "markdown",
   "metadata": {},
   "source": [
    "### Total"
   ]
  },
  {
   "cell_type": "code",
   "execution_count": 643,
   "metadata": {},
   "outputs": [],
   "source": [
    "SQLQUERY =  \"\"\"\n",
    "            SELECT CATEGORY, SUM(RAISED_AMOUNT_USD) AS TOTAL, \n",
    "            CAST(SUM(RAISED_AMOUNT_USD) AS DECIMAL(30)) AS TOTAL_DEC \n",
    "            FROM INVESTMENTS GROUP \n",
    "            BY CATEGORY\n",
    "            ORDER BY TOTAL DESC\n",
    "            LIMIT 10\n",
    "            \"\"\"\n"
   ]
  },
  {
   "cell_type": "code",
   "execution_count": 644,
   "metadata": {},
   "outputs": [
    {
     "name": "stdout",
     "output_type": "stream",
     "text": [
      "+-------------------+--------------------+------------+\n",
      "|           CATEGORY|               TOTAL|   TOTAL_DEC|\n",
      "+-------------------+--------------------+------------+\n",
      "|      Biotechnology|3.004739520880866E11|300473952088|\n",
      "|           Software|2.542332471829773...|254233247183|\n",
      "|         E-Commerce|2.012235886316381...|201223588632|\n",
      "|             Mobile|1.876357592302670...|187635759230|\n",
      "|Enterprise Software|1.449232704289308...|144923270429|\n",
      "|        Health Care|1.378121904948731E11|137812190495|\n",
      "|           Internet|1.118101693513909...|111810169351|\n",
      "|   Clean Technology|1.060021460000336...|106002146000|\n",
      "|         Technology|9.471280031366551E10| 94712800314|\n",
      "|        Advertising|8.465768089987051E10| 84657680900|\n",
      "+-------------------+--------------------+------------+\n",
      "\n"
     ]
    }
   ],
   "source": [
    "sqlDFtop = spark.sql(SQLQUERY)\n",
    "sqlDFtop.show(10)\n",
    "categories = sqlDFtop.select('CATEGORY')"
   ]
  },
  {
   "cell_type": "code",
   "execution_count": 645,
   "metadata": {},
   "outputs": [
    {
     "data": {
      "text/plain": [
       "['Biotechnology',\n",
       " 'Software',\n",
       " 'E-Commerce',\n",
       " 'Mobile',\n",
       " 'Enterprise Software',\n",
       " 'Health Care',\n",
       " 'Internet',\n",
       " 'Clean Technology',\n",
       " 'Technology',\n",
       " 'Advertising']"
      ]
     },
     "execution_count": 645,
     "metadata": {},
     "output_type": "execute_result"
    }
   ],
   "source": [
    "topCategories = [row.CATEGORY for row in categories.collect()]\n",
    "topCategories"
   ]
  },
  {
   "cell_type": "code",
   "execution_count": 646,
   "metadata": {},
   "outputs": [],
   "source": [
    "topCategoriesDF = sqlDF.filter(col('CATEGORY').isin(topCategories))"
   ]
  },
  {
   "cell_type": "code",
   "execution_count": 647,
   "metadata": {},
   "outputs": [
    {
     "data": {
      "text/plain": [
       "[('CATEGORY', 'string'),\n",
       " ('YEAR', 'int'),\n",
       " ('TOTAL', 'double'),\n",
       " ('TOTAL_DEC', 'decimal(30,0)')]"
      ]
     },
     "execution_count": 647,
     "metadata": {},
     "output_type": "execute_result"
    }
   ],
   "source": [
    "sqlDF.dtypes\n"
   ]
  },
  {
   "cell_type": "code",
   "execution_count": 648,
   "metadata": {},
   "outputs": [],
   "source": [
    "topCategoriesDFfrom1995 = topCategoriesDF.filter(col('YEAR') > startYear).sort(col(\"YEAR\").desc())"
   ]
  },
  {
   "cell_type": "code",
   "execution_count": 649,
   "metadata": {},
   "outputs": [
    {
     "name": "stdout",
     "output_type": "stream",
     "text": [
      "+-------------------+----+--------------------+-----------+\n",
      "|           CATEGORY|YEAR|               TOTAL|  TOTAL_DEC|\n",
      "+-------------------+----+--------------------+-----------+\n",
      "|         E-Commerce|2015|5.922417529146447E10|59224175291|\n",
      "|      Biotechnology|2015|  4.8271810280071E10|48271810280|\n",
      "|        Advertising|2015|  9.21792787735302E9| 9217927877|\n",
      "|           Software|2015|5.194372393718017...|51943723937|\n",
      "|   Clean Technology|2015|  7.06016861483452E9| 7060168615|\n",
      "|Enterprise Software|2015|  3.7214521372294E10|37214521372|\n",
      "|             Mobile|2015|3.031919265541164...|30319192655|\n",
      "|           Internet|2015|3.116672778818652...|31166727788|\n",
      "|         Technology|2015|2.133790189752388E10|21337901898|\n",
      "|        Health Care|2015|2.179298573280523E10|21792985733|\n",
      "|           Internet|2014|   9.6734957044577E9| 9673495704|\n",
      "|Enterprise Software|2014| 3.16393701828181E10|31639370183|\n",
      "|             Mobile|2014| 3.31661064626961E10|33166106463|\n",
      "|         Technology|2014|1.685184386749792...|16851843867|\n",
      "|      Biotechnology|2014|3.371171925211666E10|33711719252|\n",
      "|        Advertising|2014|   8.3314470337875E9| 8331447034|\n",
      "|        Health Care|2014|  1.5866739431417E10|15866739431|\n",
      "|           Software|2014| 4.38725382809973E10|43872538281|\n",
      "|         E-Commerce|2014| 5.07963813857645E10|50796381386|\n",
      "|   Clean Technology|2014| 1.13431767785611E10|11343176779|\n",
      "+-------------------+----+--------------------+-----------+\n",
      "only showing top 20 rows\n",
      "\n"
     ]
    }
   ],
   "source": [
    "topCategoriesDFfrom1995.show()"
   ]
  },
  {
   "cell_type": "code",
   "execution_count": 650,
   "metadata": {},
   "outputs": [
    {
     "data": {
      "text/plain": [
       "1"
      ]
     },
     "execution_count": 650,
     "metadata": {},
     "output_type": "execute_result"
    }
   ],
   "source": [
    "dict = {'Mobile': { 'Y':[0]  , 'T':[1,2]}}\n",
    "dict['Mobile']['T'][0]"
   ]
  },
  {
   "cell_type": "code",
   "execution_count": 651,
   "metadata": {},
   "outputs": [],
   "source": [
    "dict = {}\n",
    "\n",
    "for row in topCategoriesDFfrom1995.collect():\n",
    "    \n",
    "    if (row.CATEGORY in dict ):\n",
    "        dict[row.CATEGORY]['Y'].append(row.YEAR)\n",
    "        dict[row.CATEGORY]['T'].append(row.TOTAL)\n",
    "    else:\n",
    "        dict[row.CATEGORY] = { 'Y': [row.YEAR]  , 'T':[row.TOTAL]}\n",
    "    \n",
    "    "
   ]
  },
  {
   "cell_type": "code",
   "execution_count": 652,
   "metadata": {},
   "outputs": [
    {
     "data": {
      "text/plain": [
       "{'Advertising': {'Y': [2015,\n",
       "   2014,\n",
       "   2013,\n",
       "   2012,\n",
       "   2011,\n",
       "   2010,\n",
       "   2009,\n",
       "   2008,\n",
       "   2007,\n",
       "   2006,\n",
       "   2005,\n",
       "   2004,\n",
       "   2003,\n",
       "   2002,\n",
       "   2001,\n",
       "   2000,\n",
       "   1999,\n",
       "   1998,\n",
       "   1997,\n",
       "   1996],\n",
       "  'T': [9217927877.35302,\n",
       "   8331447033.7875,\n",
       "   6558997206.5949,\n",
       "   7685438158.944,\n",
       "   17158756314.496399,\n",
       "   5576976705.0,\n",
       "   2882267816.0,\n",
       "   5612022722.6947,\n",
       "   5148850546.0,\n",
       "   3586820971.0,\n",
       "   1242930000.0,\n",
       "   371880000.0,\n",
       "   9551150000.0,\n",
       "   145350000.0,\n",
       "   439615548.0,\n",
       "   757650000.0,\n",
       "   240000000.0,\n",
       "   9000000.0,\n",
       "   12000000.0,\n",
       "   2000000.0]},\n",
       " 'Software': {'Y': [2015,\n",
       "   2014,\n",
       "   2013,\n",
       "   2012,\n",
       "   2011,\n",
       "   2010,\n",
       "   2009,\n",
       "   2008,\n",
       "   2007,\n",
       "   2006,\n",
       "   2005,\n",
       "   2004,\n",
       "   2003,\n",
       "   2002,\n",
       "   2001,\n",
       "   2000,\n",
       "   1999,\n",
       "   1998,\n",
       "   1997],\n",
       "  'T': [51943723937.180176,\n",
       "   43872538280.9973,\n",
       "   25311873888.42697,\n",
       "   15998191092.237556,\n",
       "   15148255391.918,\n",
       "   9621212635.4491,\n",
       "   7921416648.0,\n",
       "   12662348503.942005,\n",
       "   15989260515.081398,\n",
       "   13386697398.887001,\n",
       "   12182415519.5279,\n",
       "   6765924246.91,\n",
       "   5226750464.0,\n",
       "   4233261724.0,\n",
       "   6566721385.0,\n",
       "   5447989495.0,\n",
       "   1852326056.42,\n",
       "   7500000.0,\n",
       "   43000000.0]},\n",
       " 'Mobile': {'Y': [2015,\n",
       "   2014,\n",
       "   2013,\n",
       "   2012,\n",
       "   2011,\n",
       "   2010,\n",
       "   2009,\n",
       "   2008,\n",
       "   2007,\n",
       "   2006,\n",
       "   2005,\n",
       "   2004,\n",
       "   2003,\n",
       "   2002,\n",
       "   2001,\n",
       "   2000,\n",
       "   1999,\n",
       "   1998,\n",
       "   1997],\n",
       "  'T': [30319192655.411644,\n",
       "   33166106462.6961,\n",
       "   17030578287.5018,\n",
       "   12755015527.815521,\n",
       "   11636483077.0,\n",
       "   5861969793.139999,\n",
       "   17861945600.0,\n",
       "   25117709056.904,\n",
       "   11046289080.664001,\n",
       "   8474637801.25,\n",
       "   6074045597.884,\n",
       "   3659769189.0,\n",
       "   1499720000.0,\n",
       "   952105318.0,\n",
       "   817408705.0,\n",
       "   837448847.0,\n",
       "   412834231.0,\n",
       "   79500000.0,\n",
       "   33000000.0]},\n",
       " 'Technology': {'Y': [2015,\n",
       "   2014,\n",
       "   2013,\n",
       "   2012,\n",
       "   2011,\n",
       "   2010,\n",
       "   2009,\n",
       "   2008,\n",
       "   2007,\n",
       "   2006,\n",
       "   2005,\n",
       "   2004,\n",
       "   2003,\n",
       "   2002,\n",
       "   2001,\n",
       "   2000,\n",
       "   1999],\n",
       "  'T': [21337901897.52388,\n",
       "   16851843867.497921,\n",
       "   3289450827.0092,\n",
       "   5410176593.5228,\n",
       "   14173355918.0,\n",
       "   3111086753.565,\n",
       "   2865063421.0,\n",
       "   5010891791.9247,\n",
       "   4310533171.334,\n",
       "   2521403942.0,\n",
       "   1631237824.2329998,\n",
       "   2646743161.635,\n",
       "   2577127642.0,\n",
       "   2040104908.0,\n",
       "   3241900000.0,\n",
       "   3403065726.0,\n",
       "   271162868.42]},\n",
       " 'Clean Technology': {'Y': [2015,\n",
       "   2014,\n",
       "   2013,\n",
       "   2012,\n",
       "   2011,\n",
       "   2010,\n",
       "   2009,\n",
       "   2008,\n",
       "   2007,\n",
       "   2006,\n",
       "   2005,\n",
       "   2004,\n",
       "   2003,\n",
       "   2002,\n",
       "   2001,\n",
       "   2000],\n",
       "  'T': [7060168614.83452,\n",
       "   11343176778.5611,\n",
       "   8935069525.0,\n",
       "   9308201047.386,\n",
       "   13573399425.596,\n",
       "   12490613506.0,\n",
       "   8399119504.0,\n",
       "   21217053855.0,\n",
       "   8621215708.656,\n",
       "   3046652982.0,\n",
       "   832282500.0,\n",
       "   536904614.0,\n",
       "   22087939.0,\n",
       "   194200000.0,\n",
       "   62000000.0,\n",
       "   360000000.0]},\n",
       " 'Biotechnology': {'Y': [2015,\n",
       "   2014,\n",
       "   2013,\n",
       "   2012,\n",
       "   2011,\n",
       "   2010,\n",
       "   2009,\n",
       "   2008,\n",
       "   2007,\n",
       "   2006,\n",
       "   2005,\n",
       "   2004,\n",
       "   2003,\n",
       "   2002,\n",
       "   2001,\n",
       "   2000,\n",
       "   1999,\n",
       "   1998],\n",
       "  'T': [48271810280.071,\n",
       "   33711719252.11666,\n",
       "   25633097745.281998,\n",
       "   22034623733.0,\n",
       "   20653634246.0,\n",
       "   23260647687.108,\n",
       "   22825073128.0,\n",
       "   16095351970.620003,\n",
       "   30340549389.686996,\n",
       "   15925340476.938,\n",
       "   11634854335.264,\n",
       "   16082322549.0,\n",
       "   8198870182.0,\n",
       "   3730721055.0,\n",
       "   1335255496.0,\n",
       "   689871822.0,\n",
       "   45408740.0,\n",
       "   4800000.0]},\n",
       " 'Internet': {'Y': [2015,\n",
       "   2014,\n",
       "   2013,\n",
       "   2012,\n",
       "   2011,\n",
       "   2010,\n",
       "   2009,\n",
       "   2008,\n",
       "   2007,\n",
       "   2006,\n",
       "   2005,\n",
       "   2004,\n",
       "   2003,\n",
       "   2002,\n",
       "   2001,\n",
       "   2000,\n",
       "   1999,\n",
       "   1998,\n",
       "   1997,\n",
       "   1996],\n",
       "  'T': [31166727788.186523,\n",
       "   9673495704.4577,\n",
       "   3121017984.4275002,\n",
       "   5612011925.0902,\n",
       "   12287481223.962002,\n",
       "   2424305496.357,\n",
       "   14778055643.0,\n",
       "   17847647744.0,\n",
       "   3872435607.0,\n",
       "   410586665.0,\n",
       "   1067987934.0,\n",
       "   552351212.91,\n",
       "   636100000.0,\n",
       "   2295700964.0,\n",
       "   3067208111.0,\n",
       "   1979240000.0,\n",
       "   794505348.0,\n",
       "   79500000.0,\n",
       "   75200000.0,\n",
       "   44000000.0]},\n",
       " 'Enterprise Software': {'Y': [2015,\n",
       "   2014,\n",
       "   2013,\n",
       "   2012,\n",
       "   2011,\n",
       "   2010,\n",
       "   2009,\n",
       "   2008,\n",
       "   2007,\n",
       "   2006,\n",
       "   2005,\n",
       "   2004,\n",
       "   2003,\n",
       "   2002,\n",
       "   2001,\n",
       "   2000,\n",
       "   1999,\n",
       "   1998,\n",
       "   1997],\n",
       "  'T': [37214521372.294,\n",
       "   31639370182.8181,\n",
       "   18091936525.20398,\n",
       "   14065804023.78092,\n",
       "   10158784293.04,\n",
       "   7178596332.0,\n",
       "   3878453369.0,\n",
       "   4962432521.0,\n",
       "   4866887542.534,\n",
       "   3661941502.0,\n",
       "   2877603853.259812,\n",
       "   2367914826.0,\n",
       "   1325094048.0,\n",
       "   1228650000.0,\n",
       "   766300175.0,\n",
       "   438669863.0,\n",
       "   138910000.0,\n",
       "   30900000.0,\n",
       "   28500000.0]},\n",
       " 'E-Commerce': {'Y': [2015,\n",
       "   2014,\n",
       "   2013,\n",
       "   2012,\n",
       "   2011,\n",
       "   2010,\n",
       "   2009,\n",
       "   2008,\n",
       "   2007,\n",
       "   2006,\n",
       "   2005,\n",
       "   2004,\n",
       "   2003,\n",
       "   2002,\n",
       "   2001,\n",
       "   2000,\n",
       "   1999,\n",
       "   1997],\n",
       "  'T': [59224175291.46447,\n",
       "   50796381385.7645,\n",
       "   21082306399.7447,\n",
       "   21858621733.923206,\n",
       "   23235418550.66,\n",
       "   5783545319.38074,\n",
       "   2186406083.0,\n",
       "   2800013700.947,\n",
       "   2424233622.184646,\n",
       "   1597639551.569,\n",
       "   1723105689.0,\n",
       "   1304425000.0,\n",
       "   442872572.0,\n",
       "   99500000.0,\n",
       "   1474957242.0,\n",
       "   3003081142.0,\n",
       "   2162305348.0,\n",
       "   16600000.0]},\n",
       " 'Health Care': {'Y': [2015,\n",
       "   2014,\n",
       "   2013,\n",
       "   2012,\n",
       "   2011,\n",
       "   2010,\n",
       "   2009,\n",
       "   2008,\n",
       "   2007,\n",
       "   2006,\n",
       "   2005,\n",
       "   2004,\n",
       "   2003,\n",
       "   2002,\n",
       "   2001,\n",
       "   2000,\n",
       "   1999],\n",
       "  'T': [21792985732.80523,\n",
       "   15866739431.417,\n",
       "   13213128784.523901,\n",
       "   10749965421.0,\n",
       "   10891109690.154,\n",
       "   9576906289.0,\n",
       "   10697309747.0,\n",
       "   7999716510.12,\n",
       "   11619680724.609,\n",
       "   5183012623.72,\n",
       "   4617189932.33,\n",
       "   7851893993.194,\n",
       "   4130059281.0,\n",
       "   2076250000.0,\n",
       "   1016027851.0,\n",
       "   520214483.0,\n",
       "   10000000.0]}}"
      ]
     },
     "execution_count": 652,
     "metadata": {},
     "output_type": "execute_result"
    }
   ],
   "source": [
    "dict"
   ]
  },
  {
   "cell_type": "code",
   "execution_count": 653,
   "metadata": {},
   "outputs": [
    {
     "data": {
      "image/png": "[encoded data removed]",
      "text/plain": [
       "<Figure size 432x288 with 1 Axes>"
      ]
     },
     "metadata": {
      "needs_background": "light"
     },
     "output_type": "display_data"
    }
   ],
   "source": [
    "\n",
    "plt.plot([1, 2, 3, 4], [1, 4, 9, 16])\n",
    "plt.ylabel('some numbers')\n",
    "plt.show()"
   ]
  },
  {
   "cell_type": "code",
   "execution_count": 654,
   "metadata": {},
   "outputs": [
    {
     "data": {
      "image/png": "[encoded data removed]",
      "text/plain": [
       "<Figure size 1440x720 with 1 Axes>"
      ]
     },
     "metadata": {
      "needs_background": "light"
     },
     "output_type": "display_data"
    }
   ],
   "source": [
    "color=cycle('rgbykwcm')\n",
    "plt.figure(figsize=(20,10))\n",
    "# evenly sampled time at 200ms intervals\n",
    "\n",
    "y = np.array(list(range(startYear,endYear)))\n",
    "z = np.array(list(range(100,120)))\n",
    "# red dashes, blue squares and green triangles\n",
    "# d = list(y, y, 'r--', y, y, 'bs', y, y, 'g^'])\n",
    "for cat,c in zip(dict,color):\n",
    "    plt.plot(dict[cat]['Y'], dict[cat]['T'], c = c, label = cat)\n",
    "\n",
    "plt.legend()\n",
    "plt.show()"
   ]
  },
  {
   "cell_type": "code",
   "execution_count": 655,
   "metadata": {},
   "outputs": [
    {
     "data": {
      "text/plain": [
       "array([0. , 0.2, 0.4, 0.6, 0.8, 1. , 1.2, 1.4, 1.6, 1.8, 2. , 2.2, 2.4,\n",
       "       2.6, 2.8, 3. , 3.2, 3.4, 3.6, 3.8, 4. , 4.2, 4.4, 4.6, 4.8])"
      ]
     },
     "execution_count": 655,
     "metadata": {},
     "output_type": "execute_result"
    }
   ],
   "source": [
    "t"
   ]
  },
  {
   "cell_type": "code",
   "execution_count": 656,
   "metadata": {},
   "outputs": [
    {
     "data": {
      "text/plain": [
       "array([1995, 1996, 1997, 1998, 1999, 2000, 2001, 2002, 2003, 2004, 2005,\n",
       "       2006, 2007, 2008, 2009, 2010, 2011, 2012, 2013, 2014])"
      ]
     },
     "execution_count": 656,
     "metadata": {},
     "output_type": "execute_result"
    }
   ],
   "source": [
    "y"
   ]
  },
  {
   "cell_type": "code",
   "execution_count": null,
   "metadata": {},
   "outputs": [],
   "source": []
  },
  {
   "cell_type": "code",
   "execution_count": null,
   "metadata": {},
   "outputs": [],
   "source": [
    "sqlDF.write.mode('overwrite').option(\"header\", \"true\").csv('hdfs://localhost:9000/user/lavish/data/topcategories.csv')"
   ]
  }
 ],
 "metadata": {
  "kernelspec": {
   "display_name": "Python 3",
   "language": "python",
   "name": "python3"
  },
  "language_info": {
   "codemirror_mode": {
    "name": "ipython",
    "version": 3
   },
   "file_extension": ".py",
   "mimetype": "text/x-python",
   "name": "python",
   "nbconvert_exporter": "python",
   "pygments_lexer": "ipython3",
   "version": "3.6.9"
  }
 },
 "nbformat": 4,
 "nbformat_minor": 4
}
