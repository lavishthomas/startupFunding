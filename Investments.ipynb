{
 "cells": [
  {
   "cell_type": "code",
   "execution_count": 96,
   "metadata": {},
   "outputs": [],
   "source": [
    "from pyspark.sql import SparkSession\n",
    "from pyspark.sql.functions import col, split, explode\n",
    "\n",
    "import matplotlib.pyplot as plt\n",
    "%matplotlib inline\n",
    "\n"
   ]
  },
  {
   "cell_type": "code",
   "execution_count": 97,
   "metadata": {},
   "outputs": [],
   "source": [
    "spark = SparkSession \\\n",
    "    .builder \\\n",
    "    .appName(\"Python Spark SQL basic example\") \\\n",
    "    .config(\"spark.some.config.option\", \"some-value\") \\\n",
    "    .getOrCreate()"
   ]
  },
  {
   "cell_type": "code",
   "execution_count": 91,
   "metadata": {},
   "outputs": [],
   "source": [
    "# spark is an existing SparkSession\n",
    "iv = spark.read.csv(\"hdfs://localhost:9000/user/lavish/data/investments.csv\"\n",
    "                , header='true'\n",
    "                , inferSchema='true')"
   ]
  },
  {
   "cell_type": "code",
   "execution_count": 92,
   "metadata": {},
   "outputs": [],
   "source": [
    "iv.createOrReplaceTempView(\"investments\")"
   ]
  },
  {
   "cell_type": "code",
   "execution_count": 93,
   "metadata": {},
   "outputs": [
    {
     "data": {
      "text/plain": [
       "pyspark.sql.dataframe.DataFrame"
      ]
     },
     "execution_count": 93,
     "metadata": {},
     "output_type": "execute_result"
    }
   ],
   "source": [
    "type(iv)"
   ]
  },
  {
   "cell_type": "code",
   "execution_count": 90,
   "metadata": {},
   "outputs": [
    {
     "data": {
      "text/plain": [
       "['company_permalink',\n",
       " 'company_name',\n",
       " 'company_category_list',\n",
       " 'company_country_code',\n",
       " 'company_state_code',\n",
       " 'company_region',\n",
       " 'company_city',\n",
       " 'investor_permalink',\n",
       " 'investor_name',\n",
       " 'investor_country_code',\n",
       " 'investor_state_code',\n",
       " 'investor_region',\n",
       " 'investor_city',\n",
       " 'funding_round_permalink',\n",
       " 'funding_round_type',\n",
       " 'funding_round_code',\n",
       " 'funded_at',\n",
       " 'raised_amount_usd']"
      ]
     },
     "execution_count": 90,
     "metadata": {},
     "output_type": "execute_result"
    }
   ],
   "source": [
    "iv.schema.names"
   ]
  },
  {
   "cell_type": "code",
   "execution_count": 81,
   "metadata": {},
   "outputs": [],
   "source": [
    "filteredIV = iv.select('raised_amount_usd','funded_at',split(col(\"company_category_list\"), \"[|]s*\").alias(\"categoryArr\")).filter(ShrinkedIV.raised_amount_usd.isNotNull())\n"
   ]
  },
  {
   "cell_type": "code",
   "execution_count": 103,
   "metadata": {},
   "outputs": [
    {
     "name": "stdout",
     "output_type": "stream",
     "text": [
      "+-----------------+----------+--------------------+\n",
      "|raised_amount_usd| funded_at|         categoryArr|\n",
      "+-----------------+----------+--------------------+\n",
      "|        2000000.0|19-03-2008|       [Curated Web]|\n",
      "|          41250.0|01-07-2014|             [Games]|\n",
      "|            2.0E7|09-11-2015|         [Analytics]|\n",
      "|        3000000.0|22-05-2013|         [Analytics]|\n",
      "|            2.0E7|09-11-2015|         [Analytics]|\n",
      "|        1700000.0|03-01-2013|         [Analytics]|\n",
      "|        8900000.0|19-07-2014|         [Analytics]|\n",
      "|            2.0E7|09-11-2015|         [Analytics]|\n",
      "|            2.0E7|09-11-2015|         [Analytics]|\n",
      "|        8900000.0|19-07-2014|         [Analytics]|\n",
      "|        1700000.0|03-01-2013|         [Analytics]|\n",
      "|        1700000.0|03-01-2013|         [Analytics]|\n",
      "|        8900000.0|19-07-2014|         [Analytics]|\n",
      "|        8900000.0|19-07-2014|         [Analytics]|\n",
      "|        8900000.0|19-07-2014|         [Analytics]|\n",
      "|        8900000.0|19-07-2014|         [Analytics]|\n",
      "|         150000.0|05-02-2014|            [Mobile]|\n",
      "|        1000050.0|20-07-2011|            [Mobile]|\n",
      "|        1000050.0|20-07-2011|            [Mobile]|\n",
      "|         150000.0|05-02-2014|            [Mobile]|\n",
      "|        1000050.0|20-07-2011|            [Mobile]|\n",
      "|        1000050.0|20-07-2011|            [Mobile]|\n",
      "|        1000050.0|20-07-2011|            [Mobile]|\n",
      "|        1000050.0|20-07-2011|            [Mobile]|\n",
      "|        1000050.0|20-07-2011|            [Mobile]|\n",
      "|        1000050.0|20-07-2011|            [Mobile]|\n",
      "|         150000.0|05-02-2014|            [Mobile]|\n",
      "|         150000.0|05-02-2014|            [Mobile]|\n",
      "|          40000.0|18-02-2013|        [E-Commerce]|\n",
      "|        5000000.0|17-03-2015|[Apps, Cable, Dis...|\n",
      "|          40000.0|23-08-2011|            [Search]|\n",
      "|         500000.0|15-05-2009|[Art, E-Commerce,...|\n",
      "|         500000.0|15-05-2009|[Art, E-Commerce,...|\n",
      "|         500000.0|15-05-2009|[Art, E-Commerce,...|\n",
      "|      4.3923865E7|01-04-2010|            [Mobile]|\n",
      "|        2520000.0|16-02-2011|       [Curated Web]|\n",
      "|        2520000.0|16-02-2011|       [Curated Web]|\n",
      "|        2520000.0|16-02-2011|       [Curated Web]|\n",
      "|          15000.0|01-01-2010|       [Curated Web]|\n",
      "|        2520000.0|16-02-2011|       [Curated Web]|\n",
      "|        2520000.0|16-02-2011|       [Curated Web]|\n",
      "|          15000.0|01-01-2010|       [Curated Web]|\n",
      "|        2520000.0|16-02-2011|       [Curated Web]|\n",
      "|        2520000.0|16-02-2011|       [Curated Web]|\n",
      "|        2520000.0|16-02-2011|       [Curated Web]|\n",
      "|        2520000.0|16-02-2011|       [Curated Web]|\n",
      "|        2520000.0|16-02-2011|       [Curated Web]|\n",
      "|        2520000.0|16-02-2011|       [Curated Web]|\n",
      "|         647879.0|08-04-2013|       [Curated Web]|\n",
      "|         642000.0|05-04-2011|       [Curated Web]|\n",
      "+-----------------+----------+--------------------+\n",
      "only showing top 50 rows\n",
      "\n"
     ]
    }
   ],
   "source": [
    "filteredIV.show(50)"
   ]
  },
  {
   "cell_type": "code",
   "execution_count": 99,
   "metadata": {},
   "outputs": [],
   "source": [
    "explodedIV=filteredIV.select('raised_amount_usd','funded_at', explode('categoryArr'))"
   ]
  },
  {
   "cell_type": "code",
   "execution_count": 101,
   "metadata": {},
   "outputs": [
    {
     "name": "stdout",
     "output_type": "stream",
     "text": [
      "+-----------------+----------+------------+\n",
      "|raised_amount_usd| funded_at|         col|\n",
      "+-----------------+----------+------------+\n",
      "|        2000000.0|19-03-2008| Curated Web|\n",
      "|          41250.0|01-07-2014|       Games|\n",
      "|            2.0E7|09-11-2015|   Analytics|\n",
      "|        3000000.0|22-05-2013|   Analytics|\n",
      "|            2.0E7|09-11-2015|   Analytics|\n",
      "|        1700000.0|03-01-2013|   Analytics|\n",
      "|        8900000.0|19-07-2014|   Analytics|\n",
      "|            2.0E7|09-11-2015|   Analytics|\n",
      "|            2.0E7|09-11-2015|   Analytics|\n",
      "|        8900000.0|19-07-2014|   Analytics|\n",
      "|        1700000.0|03-01-2013|   Analytics|\n",
      "|        1700000.0|03-01-2013|   Analytics|\n",
      "|        8900000.0|19-07-2014|   Analytics|\n",
      "|        8900000.0|19-07-2014|   Analytics|\n",
      "|        8900000.0|19-07-2014|   Analytics|\n",
      "|        8900000.0|19-07-2014|   Analytics|\n",
      "|         150000.0|05-02-2014|      Mobile|\n",
      "|        1000050.0|20-07-2011|      Mobile|\n",
      "|        1000050.0|20-07-2011|      Mobile|\n",
      "|         150000.0|05-02-2014|      Mobile|\n",
      "|        1000050.0|20-07-2011|      Mobile|\n",
      "|        1000050.0|20-07-2011|      Mobile|\n",
      "|        1000050.0|20-07-2011|      Mobile|\n",
      "|        1000050.0|20-07-2011|      Mobile|\n",
      "|        1000050.0|20-07-2011|      Mobile|\n",
      "|        1000050.0|20-07-2011|      Mobile|\n",
      "|         150000.0|05-02-2014|      Mobile|\n",
      "|         150000.0|05-02-2014|      Mobile|\n",
      "|          40000.0|18-02-2013|  E-Commerce|\n",
      "|        5000000.0|17-03-2015|        Apps|\n",
      "|        5000000.0|17-03-2015|       Cable|\n",
      "|        5000000.0|17-03-2015|Distribution|\n",
      "|        5000000.0|17-03-2015|    Software|\n",
      "|          40000.0|23-08-2011|      Search|\n",
      "|         500000.0|15-05-2009|         Art|\n",
      "|         500000.0|15-05-2009|  E-Commerce|\n",
      "|         500000.0|15-05-2009|Marketplaces|\n",
      "|         500000.0|15-05-2009|         Art|\n",
      "|         500000.0|15-05-2009|  E-Commerce|\n",
      "|         500000.0|15-05-2009|Marketplaces|\n",
      "|         500000.0|15-05-2009|         Art|\n",
      "|         500000.0|15-05-2009|  E-Commerce|\n",
      "|         500000.0|15-05-2009|Marketplaces|\n",
      "|      4.3923865E7|01-04-2010|      Mobile|\n",
      "|        2520000.0|16-02-2011| Curated Web|\n",
      "|        2520000.0|16-02-2011| Curated Web|\n",
      "|        2520000.0|16-02-2011| Curated Web|\n",
      "|          15000.0|01-01-2010| Curated Web|\n",
      "|        2520000.0|16-02-2011| Curated Web|\n",
      "|        2520000.0|16-02-2011| Curated Web|\n",
      "+-----------------+----------+------------+\n",
      "only showing top 50 rows\n",
      "\n"
     ]
    }
   ],
   "source": [
    "explodedIV.show(50)"
   ]
  },
  {
   "cell_type": "code",
   "execution_count": 73,
   "metadata": {},
   "outputs": [],
   "source": [
    "I = filteredIV.select(col('company_category_list'), split(col(\"company_category_list\"), \"[|]s*\").alias(\"ev\"))\n"
   ]
  },
  {
   "cell_type": "code",
   "execution_count": 75,
   "metadata": {},
   "outputs": [
    {
     "name": "stdout",
     "output_type": "stream",
     "text": [
      "+---------------------+--------------------+\n",
      "|company_category_list|                  ev|\n",
      "+---------------------+--------------------+\n",
      "|          Curated Web|       [Curated Web]|\n",
      "|                Games|             [Games]|\n",
      "|            Analytics|         [Analytics]|\n",
      "|            Analytics|         [Analytics]|\n",
      "|            Analytics|         [Analytics]|\n",
      "|            Analytics|         [Analytics]|\n",
      "|            Analytics|         [Analytics]|\n",
      "|            Analytics|         [Analytics]|\n",
      "|            Analytics|         [Analytics]|\n",
      "|            Analytics|         [Analytics]|\n",
      "|            Analytics|         [Analytics]|\n",
      "|            Analytics|         [Analytics]|\n",
      "|            Analytics|         [Analytics]|\n",
      "|            Analytics|         [Analytics]|\n",
      "|            Analytics|         [Analytics]|\n",
      "|            Analytics|         [Analytics]|\n",
      "|               Mobile|            [Mobile]|\n",
      "|               Mobile|            [Mobile]|\n",
      "|               Mobile|            [Mobile]|\n",
      "|               Mobile|            [Mobile]|\n",
      "|               Mobile|            [Mobile]|\n",
      "|               Mobile|            [Mobile]|\n",
      "|               Mobile|            [Mobile]|\n",
      "|               Mobile|            [Mobile]|\n",
      "|               Mobile|            [Mobile]|\n",
      "|               Mobile|            [Mobile]|\n",
      "|               Mobile|            [Mobile]|\n",
      "|               Mobile|            [Mobile]|\n",
      "|           E-Commerce|        [E-Commerce]|\n",
      "| Apps|Cable|Distri...|[Apps, Cable, Dis...|\n",
      "|               Search|            [Search]|\n",
      "| Art|E-Commerce|Ma...|[Art, E-Commerce,...|\n",
      "| Art|E-Commerce|Ma...|[Art, E-Commerce,...|\n",
      "| Art|E-Commerce|Ma...|[Art, E-Commerce,...|\n",
      "|               Mobile|            [Mobile]|\n",
      "|          Curated Web|       [Curated Web]|\n",
      "|          Curated Web|       [Curated Web]|\n",
      "|          Curated Web|       [Curated Web]|\n",
      "|          Curated Web|       [Curated Web]|\n",
      "|          Curated Web|       [Curated Web]|\n",
      "|          Curated Web|       [Curated Web]|\n",
      "|          Curated Web|       [Curated Web]|\n",
      "|          Curated Web|       [Curated Web]|\n",
      "|          Curated Web|       [Curated Web]|\n",
      "|          Curated Web|       [Curated Web]|\n",
      "|          Curated Web|       [Curated Web]|\n",
      "|          Curated Web|       [Curated Web]|\n",
      "|          Curated Web|       [Curated Web]|\n",
      "|          Curated Web|       [Curated Web]|\n",
      "|          Curated Web|       [Curated Web]|\n",
      "+---------------------+--------------------+\n",
      "only showing top 50 rows\n",
      "\n"
     ]
    }
   ],
   "source": [
    "I.show(50)"
   ]
  },
  {
   "cell_type": "code",
   "execution_count": 72,
   "metadata": {},
   "outputs": [
    {
     "name": "stdout",
     "output_type": "stream",
     "text": [
      "+---+-----------------+\n",
      "| id|               ev|\n",
      "+---+-----------------+\n",
      "|  1|  [200# 201# 202]|\n",
      "|  1|[lav, er, 34, 45]|\n",
      "|  1|      [swer,sfsd]|\n",
      "|  2|             [32]|\n",
      "|  2|             null|\n",
      "+---+-----------------+\n",
      "\n"
     ]
    }
   ],
   "source": [
    "ef.show()"
   ]
  },
  {
   "cell_type": "code",
   "execution_count": null,
   "metadata": {},
   "outputs": [],
   "source": []
  }
 ],
 "metadata": {
  "kernelspec": {
   "display_name": "Python 3",
   "language": "python",
   "name": "python3"
  },
  "language_info": {
   "codemirror_mode": {
    "name": "ipython",
    "version": 3
   },
   "file_extension": ".py",
   "mimetype": "text/x-python",
   "name": "python",
   "nbconvert_exporter": "python",
   "pygments_lexer": "ipython3",
   "version": "3.6.9"
  }
 },
 "nbformat": 4,
 "nbformat_minor": 4
}
