{
 "cells": [
  {
   "cell_type": "code",
   "execution_count": 1,
   "metadata": {},
   "outputs": [],
   "source": [
    "from pyspark.sql import SparkSession\n",
    "\n",
    "spark = SparkSession \\\n",
    "    .builder \\\n",
    "    .appName(\"Python Spark SQL basic example\") \\\n",
    "    .config(\"spark.some.config.option\", \"some-value\") \\\n",
    "    .getOrCreate()"
   ]
  },
  {
   "cell_type": "code",
   "execution_count": 2,
   "metadata": {},
   "outputs": [
    {
     "ename": "AttributeError",
     "evalue": "'SparkContext' object has no attribute 'read'",
     "output_type": "error",
     "traceback": [
      "\u001b[0;31m---------------------------------------------------------------------------\u001b[0m",
      "\u001b[0;31mAttributeError\u001b[0m                            Traceback (most recent call last)",
      "\u001b[0;32m<ipython-input-2-c5eb0ea1839b>\u001b[0m in \u001b[0;36m<module>\u001b[0;34m\u001b[0m\n\u001b[1;32m      1\u001b[0m \u001b[0;31m# spark is an existing SparkSession\u001b[0m\u001b[0;34m\u001b[0m\u001b[0;34m\u001b[0m\u001b[0;34m\u001b[0m\u001b[0m\n\u001b[0;32m----> 2\u001b[0;31m ac = sc.read.csv(\"hdfs://localhost:9000/user/lavish/data/acquisitions.csv\"\n\u001b[0m\u001b[1;32m      3\u001b[0m                     , header='true', inferSchema='true')\n\u001b[1;32m      4\u001b[0m co= sc.read.csv(\"hdfs://localhost:9000/user/lavish/data/companies.csv\"\n\u001b[1;32m      5\u001b[0m                   , header='true', inferSchema='true')\n",
      "\u001b[0;31mAttributeError\u001b[0m: 'SparkContext' object has no attribute 'read'"
     ]
    }
   ],
   "source": [
    "# spark is an existing SparkSession\n",
    "ac = spark.read.csv(\"hdfs://localhost:9000/user/lavish/data/acquisitions.csv\"\n",
    "                    , header='true', inferSchema='true')\n",
    "co= spark.read.csv(\"hdfs://localhost:9000/user/lavish/data/companies.csv\"\n",
    "                  , header='true', inferSchema='true')\n",
    "iv = spark.read.csv(\"hdfs://localhost:9000/user/lavish/data/investments.csv\"\n",
    "                   , header='true', inferSchema='true')\n",
    "# Displays the content of the DataFrame to stdout\n",
    "#ac.show()\n",
    "#co.show()\n",
    "#iv.show()\n"
   ]
  },
  {
   "cell_type": "code",
   "execution_count": 4,
   "metadata": {},
   "outputs": [],
   "source": [
    "# Register the DataFrame as a SQL temporary view\n",
    "ac.createOrReplaceTempView(\"acquisitions\")\n",
    "co.createOrReplaceTempView(\"companies\")\n",
    "iv.createOrReplaceTempView(\"investments\")\n",
    "\n",
    "    "
   ]
  },
  {
   "cell_type": "code",
   "execution_count": 5,
   "metadata": {},
   "outputs": [
    {
     "name": "stdout",
     "output_type": "stream",
     "text": [
      "+--------------------+\n",
      "|        company_name|\n",
      "+--------------------+\n",
      "|              003.RU|\n",
      "|   0958572 B.C. Ltd.|\n",
      "|1-800 Communications|\n",
      "|      1-800 Contacts|\n",
      "|Games Support +1-...|\n",
      "|        1 Mainstream|\n",
      "| 1 Nation Technology|\n",
      "|        1000 Markets|\n",
      "|         1000cruises|\n",
      "|        1000memories|\n",
      "|             100Plus|\n",
      "|            1010data|\n",
      "|              10best|\n",
      "|              10East|\n",
      "|          10K Wizard|\n",
      "|            10stamps|\n",
      "|            10stamps|\n",
      "|             11 Main|\n",
      "|    118Boardshop.com|\n",
      "|       123LinkIt.com|\n",
      "+--------------------+\n",
      "only showing top 20 rows\n",
      "\n"
     ]
    }
   ],
   "source": [
    "sqlDF = spark.sql(\"SELECT company_name FROM acquisitions\")\n",
    "sqlDF.show()"
   ]
  },
  {
   "cell_type": "code",
   "execution_count": 6,
   "metadata": {},
   "outputs": [
    {
     "name": "stdout",
     "output_type": "stream",
     "text": [
      "+--------------------+--------------------+--------------------+--------------------+-----------------+---------+------------+----------+--------------------+-----------------+--------------+----------+----------------+---------------+\n",
      "|           permalink|                name|        homepage_url|       category_list|funding_total_usd|   status|country_code|state_code|              region|             city|funding_rounds|founded_at|first_funding_at|last_funding_at|\n",
      "+--------------------+--------------------+--------------------+--------------------+-----------------+---------+------------+----------+--------------------+-----------------+--------------+----------+----------------+---------------+\n",
      "| /organization/-fame|               #fame|  http://livfame.com|               Media|         10000000|operating|         IND|        16|              Mumbai|           Mumbai|             1|      null|      2015-01-05|     2015-01-05|\n",
      "|/organization/-qo...|            :Qounter|http://www.qounte...|Application Platf...|           700000|operating|         USA|        DE|          DE - Other|    Delaware City|             2|2014-09-04|      2014-03-01|     2014-10-14|\n",
      "|/organization/-th...|(THE) ONE of THEM...| http://oneofthem.jp|   Apps|Games|Mobile|          3406878|operating|        null|      null|                null|             null|             1|      null|      2014-01-30|     2014-01-30|\n",
      "|/organization/0-6...|             0-6.com|  http://www.0-6.com|         Curated Web|          2000000|operating|         CHN|        22|             Beijing|          Beijing|             1|2007-01-01|      2008-03-19|     2008-03-19|\n",
      "|/organization/004...|    004 Technologies|http://004gmbh.de...|            Software|                -|operating|         USA|        IL|Springfield, Illi...|        Champaign|             1|2010-01-01|      2014-07-24|     2014-07-24|\n",
      "|/organization/01g...|  01Games Technology|http://www.01game...|               Games|            41250|operating|         HKG|      null|           Hong Kong|        Hong Kong|             1|      null|      2014-07-01|     2014-07-01|\n",
      "|/organization/0nd...|Ondine Biomedical...|http://ondinebio.com|       Biotechnology|           762851|operating|         CAN|        BC|           Vancouver|        Vancouver|             2|1997-01-01|      2009-09-11|     2009-12-21|\n",
      "|/organization/0xdata|              H2O.ai|      http://h2o.ai/|           Analytics|         33600000|operating|         USA|        CA|         SF Bay Area|    Mountain View|             4|2011-01-01|      2013-01-03|     2015-11-09|\n",
      "|     /organization/1|            One Inc.|  http://whatis1.com|              Mobile|          1150050|operating|         USA|        CA|         SF Bay Area|    San Francisco|             3|2011-08-01|      2011-07-20|     2014-02-05|\n",
      "|/organization/1-2...|         1,2,3 Listo|http://www.123lis...|          E-Commerce|            40000|operating|         CHL|        12|            Santiago|       Las Condes|             1|2012-01-01|      2013-02-18|     2013-02-18|\n",
      "|/organization/1-4...|             1-4 All|                null|Entertainment|Gam...|                -|operating|         USA|        NC|          NC - Other|Connellys Springs|             1|      null|      2013-04-21|     2013-04-21|\n",
      "|/organization/1-6...|    1.618 Technology|http://www.Homean...|Networking|Real E...|                -|operating|         USA|        FL|             Orlando|          Orlando|             1|2013-12-07|      2014-01-22|     2014-01-22|\n",
      "|/organization/1-8...|       1-800-DENTIST|http://www.1800de...| Health and Wellness|                -|operating|         USA|        CA|         Los Angeles|      Los Angeles|             1|1986-01-01|      2010-08-19|     2010-08-19|\n",
      "|/organization/1-8...|       1-800-DOCTORS|http://1800doctor...| Health and Wellness|          1750000|operating|         USA|        NJ|              Newark|           Iselin|             1|1984-01-01|      2011-03-02|     2011-03-02|\n",
      "|/organization/1-8...|1-800-PublicRelat...|http://www.1800pu...|Internet Marketin...|          6000000|operating|         USA|        NY|       New York City|         New York|             1|2013-10-24|      2015-02-01|     2015-02-01|\n",
      "|/organization/1-m...|        1 Mainstream|http://www.1mains...|Apps|Cable|Distri...|          5000000| acquired|         USA|        CA|         SF Bay Area|        Cupertino|             1|2012-03-01|      2015-03-17|     2015-03-17|\n",
      "|/organization/1-o...|             1 of 99|                null| Entertainment|Games|           100000|operating|         USA|        CA|         SF Bay Area|    Mountain View|             1|2014-12-01|      2014-12-13|     2014-12-13|\n",
      "|/organization/10-...|         10-20 Media|http://www.10-20m...|          E-Commerce|          2050000|operating|         USA|        MD|           Baltimore|         Woodbine|             4|2001-01-01|      2009-06-18|     2011-12-28|\n",
      "|/organization/10-...|     10 Minutes With|http://10minutesw...|           Education|          4400000|operating|         GBR|        H9|              London|           London|             2|2013-01-01|      2013-01-01|     2014-10-09|\n",
      "|/organization/100...|          1000 Corks|http://1000corks.com|              Search|            40000|operating|         USA|        OR|    Portland, Oregon|      Lake Oswego|             1|2008-01-01|      2011-08-23|     2011-08-23|\n",
      "+--------------------+--------------------+--------------------+--------------------+-----------------+---------+------------+----------+--------------------+-----------------+--------------+----------+----------------+---------------+\n",
      "only showing top 20 rows\n",
      "\n"
     ]
    }
   ],
   "source": [
    "sqlDF = spark.sql(\"SELECT * FROM companies\")\n",
    "sqlDF.show()"
   ]
  },
  {
   "cell_type": "code",
   "execution_count": 7,
   "metadata": {},
   "outputs": [
    {
     "name": "stdout",
     "output_type": "stream",
     "text": [
      "+--------------------+------------------+---------------------+--------------------+------------------+--------------------+-------------+--------------------+--------------------+---------------------+-------------------+----------------+-------------+-----------------------+------------------+------------------+----------+-----------------+\n",
      "|   company_permalink|      company_name|company_category_list|company_country_code|company_state_code|      company_region| company_city|  investor_permalink|       investor_name|investor_country_code|investor_state_code| investor_region|investor_city|funding_round_permalink|funding_round_type|funding_round_code| funded_at|raised_amount_usd|\n",
      "+--------------------+------------------+---------------------+--------------------+------------------+--------------------+-------------+--------------------+--------------------+---------------------+-------------------+----------------+-------------+-----------------------+------------------+------------------+----------+-----------------+\n",
      "|/organization/0-6...|           0-6.com|          Curated Web|                 CHN|                22|             Beijing|      Beijing|/organization/dt-...| DT Capital Partners|                  CHN|                 23|        Shanghai|     Shanghai|   /funding-round/57...|           venture|                 A|19-03-2008|        2000000.0|\n",
      "|/organization/004...|  004 Technologies|             Software|                 USA|                IL|Springfield, Illi...|    Champaign|/organization/ven...|VCDE Venture Part...|                  DEU|                  5|       Frankfurt|    Frankfurt|   /funding-round/12...|           venture|              null|24-07-2014|             null|\n",
      "|/organization/01g...|01Games Technology|                Games|                 HKG|              null|           Hong Kong|    Hong Kong|/organization/cyb...| Cyberport Hong Kong|                  HKG|               null|       Hong Kong|    Hong Kong|   /funding-round/7d...|       undisclosed|              null|01-07-2014|          41250.0|\n",
      "|/organization/0xdata|            H2O.ai|            Analytics|                 USA|                CA|         SF Bay Area|Mountain View|/organization/cap...|         Capital One|                  USA|                 VA|Washington, D.C.|       Mclean|   /funding-round/3b...|           venture|                 B|09-11-2015|            2.0E7|\n",
      "|/organization/0xdata|            H2O.ai|            Analytics|                 USA|                CA|         SF Bay Area|Mountain View|/organization/nex...|Nexus Venture Par...|                  USA|                 CA|     SF Bay Area|   Menlo Park|   /funding-round/38...|              seed|              null|22-05-2013|        3000000.0|\n",
      "|/organization/0xdata|            H2O.ai|            Analytics|                 USA|                CA|         SF Bay Area|Mountain View|/organization/nex...|Nexus Venture Par...|                  USA|                 CA|     SF Bay Area|   Menlo Park|   /funding-round/3b...|           venture|                 B|09-11-2015|            2.0E7|\n",
      "|/organization/0xdata|            H2O.ai|            Analytics|                 USA|                CA|         SF Bay Area|Mountain View|/organization/nex...|Nexus Venture Par...|                  USA|                 CA|     SF Bay Area|   Menlo Park|   /funding-round/ae...|           venture|              null|03-01-2013|        1700000.0|\n",
      "|/organization/0xdata|            H2O.ai|            Analytics|                 USA|                CA|         SF Bay Area|Mountain View|/organization/nex...|Nexus Venture Par...|                  USA|                 CA|     SF Bay Area|   Menlo Park|   /funding-round/e1...|           venture|                 A|19-07-2014|        8900000.0|\n",
      "|/organization/0xdata|            H2O.ai|            Analytics|                 USA|                CA|         SF Bay Area|Mountain View|/organization/pax...|Paxion Capital Pa...|                 null|               null|            null|         null|   /funding-round/3b...|           venture|                 B|09-11-2015|            2.0E7|\n",
      "|/organization/0xdata|            H2O.ai|            Analytics|                 USA|                CA|         SF Bay Area|Mountain View|/organization/tra...|        Transamerica|                  USA|                 IA|    Cedar Rapids| Cedar Rapids|   /funding-round/3b...|           venture|                 B|09-11-2015|            2.0E7|\n",
      "|/organization/0xdata|            H2O.ai|            Analytics|                 USA|                CA|         SF Bay Area|Mountain View|/organization/tra...|Transamerica Vent...|                  USA|                 NY|   New York City|     New York|   /funding-round/e1...|           venture|                 A|19-07-2014|        8900000.0|\n",
      "|/organization/0xdata|            H2O.ai|            Analytics|                 USA|                CA|         SF Bay Area|Mountain View|/person/anand-bab...|Anand Babu Periasamy|                  USA|               null|            null|    Palo Alto|   /funding-round/ae...|           venture|              null|03-01-2013|        1700000.0|\n",
      "|/organization/0xdata|            H2O.ai|            Analytics|                 USA|                CA|         SF Bay Area|Mountain View|/person/anand-raj...|     Anand Rajaraman|                 null|               null|            null|         null|   /funding-round/ae...|           venture|              null|03-01-2013|        1700000.0|\n",
      "|/organization/0xdata|            H2O.ai|            Analytics|                 USA|                CA|         SF Bay Area|Mountain View|/person/ash-bhardwaj|        Ash Bhardwaj|                  USA|               null|            null|    Los Altos|   /funding-round/e1...|           venture|                 A|19-07-2014|        8900000.0|\n",
      "|/organization/0xdata|            H2O.ai|            Analytics|                 USA|                CA|         SF Bay Area|Mountain View|/person/michael-m...|       Michael Marks|                 null|               null|            null|         null|   /funding-round/e1...|           venture|                 A|19-07-2014|        8900000.0|\n",
      "|/organization/0xdata|            H2O.ai|            Analytics|                 USA|                CA|         SF Bay Area|Mountain View|/person/rajesh-am...|       Rajesh Ambati|                  USA|               null|            null|    Palo Alto|   /funding-round/e1...|           venture|                 A|19-07-2014|        8900000.0|\n",
      "|/organization/0xdata|            H2O.ai|            Analytics|                 USA|                CA|         SF Bay Area|Mountain View|/person/rakesh-ma...|       Rakesh Mathur|                 null|               null|            null|         null|   /funding-round/e1...|           venture|                 A|19-07-2014|        8900000.0|\n",
      "|     /organization/1|          One Inc.|               Mobile|                 USA|                CA|         SF Bay Area|San Francisco|/organization/cam...|   Camp One Ventures|                  USA|                 CA|     SF Bay Area|    Palo Alto|   /funding-round/03...|              seed|              null|05-02-2014|         150000.0|\n",
      "|     /organization/1|          One Inc.|               Mobile|                 USA|                CA|         SF Bay Area|San Francisco|/organization/cam...|   Camp One Ventures|                  USA|                 CA|     SF Bay Area|    Palo Alto|   /funding-round/5d...|       undisclosed|              null|05-02-2013|             null|\n",
      "|     /organization/1|          One Inc.|               Mobile|                 USA|                CA|         SF Bay Area|San Francisco|/organization/cha...|                 CRV|                  USA|                 MA|          Boston|    Cambridge|   /funding-round/e8...|              seed|              null|20-07-2011|        1000050.0|\n",
      "+--------------------+------------------+---------------------+--------------------+------------------+--------------------+-------------+--------------------+--------------------+---------------------+-------------------+----------------+-------------+-----------------------+------------------+------------------+----------+-----------------+\n",
      "only showing top 20 rows\n",
      "\n"
     ]
    }
   ],
   "source": [
    "sqlDF = spark.sql(\"SELECT * FROM investments\")\n",
    "sqlDF.show()"
   ]
  },
  {
   "cell_type": "code",
   "execution_count": null,
   "metadata": {},
   "outputs": [],
   "source": []
  },
  {
   "cell_type": "code",
   "execution_count": null,
   "metadata": {},
   "outputs": [],
   "source": []
  }
 ],
 "metadata": {
  "kernelspec": {
   "display_name": "Python 3",
   "language": "python",
   "name": "python3"
  },
  "language_info": {
   "codemirror_mode": {
    "name": "ipython",
    "version": 3
   },
   "file_extension": ".py",
   "mimetype": "text/x-python",
   "name": "python",
   "nbconvert_exporter": "python",
   "pygments_lexer": "ipython3",
   "version": "3.6.9"
  }
 },
 "nbformat": 4,
 "nbformat_minor": 4
}
