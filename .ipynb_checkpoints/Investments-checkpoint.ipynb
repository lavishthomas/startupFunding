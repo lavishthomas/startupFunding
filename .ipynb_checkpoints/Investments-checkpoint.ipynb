{
 "cells": [
  {
   "cell_type": "code",
   "execution_count": 531,
   "metadata": {},
   "outputs": [],
   "source": [
    "from pyspark.sql import SparkSession\n",
    "from pyspark.sql.functions import col, split, explode,substring, length\n",
    "from pyspark.sql.types import DecimalType\n",
    "from itertools import cycle\n",
    "import numpy as np\n",
    "import matplotlib.pyplot as plt\n",
    "%matplotlib inline"
   ]
  },
  {
   "cell_type": "code",
   "execution_count": 532,
   "metadata": {},
   "outputs": [],
   "source": [
    "spark = SparkSession \\\n",
    "    .builder \\\n",
    "    .appName(\"Python Spark SQL basic example\") \\\n",
    "    .config(\"spark.some.config.option\", \"some-value\") \\\n",
    "    .getOrCreate()"
   ]
  },
  {
   "cell_type": "code",
   "execution_count": 533,
   "metadata": {},
   "outputs": [],
   "source": [
    "# spark is an custom SparkSession based on some config to work with Jupyter notebooks\n",
    "iv = spark.read.csv(\"hdfs://localhost:9000/user/lavish/data/investments.csv\"\n",
    "                , header='true'\n",
    "                , inferSchema='true')"
   ]
  },
  {
   "cell_type": "code",
   "execution_count": 534,
   "metadata": {},
   "outputs": [],
   "source": [
    "startYear=1995\n",
    "endYear=2015"
   ]
  },
  {
   "cell_type": "code",
   "execution_count": 535,
   "metadata": {},
   "outputs": [
    {
     "data": {
      "text/plain": [
       "pyspark.sql.dataframe.DataFrame"
      ]
     },
     "execution_count": 535,
     "metadata": {},
     "output_type": "execute_result"
    }
   ],
   "source": [
    "type(iv)"
   ]
  },
  {
   "cell_type": "code",
   "execution_count": 536,
   "metadata": {},
   "outputs": [
    {
     "data": {
      "text/plain": [
       "['company_permalink',\n",
       " 'company_name',\n",
       " 'company_category_list',\n",
       " 'company_country_code',\n",
       " 'company_state_code',\n",
       " 'company_region',\n",
       " 'company_city',\n",
       " 'investor_permalink',\n",
       " 'investor_name',\n",
       " 'investor_country_code',\n",
       " 'investor_state_code',\n",
       " 'investor_region',\n",
       " 'investor_city',\n",
       " 'funding_round_permalink',\n",
       " 'funding_round_type',\n",
       " 'funding_round_code',\n",
       " 'funded_at',\n",
       " 'raised_amount_usd']"
      ]
     },
     "execution_count": 536,
     "metadata": {},
     "output_type": "execute_result"
    }
   ],
   "source": [
    "iv.schema.names"
   ]
  },
  {
   "cell_type": "code",
   "execution_count": 537,
   "metadata": {},
   "outputs": [],
   "source": [
    "filteredIV = iv.filter(iv.raised_amount_usd.isNotNull())"
   ]
  },
  {
   "cell_type": "code",
   "execution_count": 538,
   "metadata": {},
   "outputs": [],
   "source": [
    "from pyspark.sql.types import DoubleType\n",
    "splittedCategoryIV = filteredIV.select('raised_amount_usd',  substring('funded_at',-4,4).cast('int').alias('year')\n",
    "                       , split(col(\"company_category_list\")\n",
    "                       , \"[|]s*\").alias(\"categoryArr\"))"
   ]
  },
  {
   "cell_type": "code",
   "execution_count": 539,
   "metadata": {},
   "outputs": [],
   "source": [
    "explodedIV=splittedCategoryIV.select('raised_amount_usd','year', explode('categoryArr').alias('category'))"
   ]
  },
  {
   "cell_type": "code",
   "execution_count": 540,
   "metadata": {},
   "outputs": [
    {
     "name": "stdout",
     "output_type": "stream",
     "text": [
      "+-----------------+----+-----------+\n",
      "|raised_amount_usd|year|   category|\n",
      "+-----------------+----+-----------+\n",
      "|        2000000.0|2008|Curated Web|\n",
      "|          41250.0|2014|      Games|\n",
      "|            2.0E7|2015|  Analytics|\n",
      "|        3000000.0|2013|  Analytics|\n",
      "|            2.0E7|2015|  Analytics|\n",
      "|        1700000.0|2013|  Analytics|\n",
      "|        8900000.0|2014|  Analytics|\n",
      "|            2.0E7|2015|  Analytics|\n",
      "|            2.0E7|2015|  Analytics|\n",
      "|        8900000.0|2014|  Analytics|\n",
      "+-----------------+----+-----------+\n",
      "only showing top 10 rows\n",
      "\n"
     ]
    }
   ],
   "source": [
    "explodedIV.show(10)"
   ]
  },
  {
   "cell_type": "code",
   "execution_count": 541,
   "metadata": {},
   "outputs": [],
   "source": [
    "explodedIV.createOrReplaceTempView(\"investments\")"
   ]
  },
  {
   "cell_type": "code",
   "execution_count": 542,
   "metadata": {},
   "outputs": [
    {
     "name": "stdout",
     "output_type": "stream",
     "text": [
      "+-----------------+----+-----------+\n",
      "|raised_amount_usd|year|   category|\n",
      "+-----------------+----+-----------+\n",
      "|        2000000.0|2008|Curated Web|\n",
      "|          41250.0|2014|      Games|\n",
      "|            2.0E7|2015|  Analytics|\n",
      "|        3000000.0|2013|  Analytics|\n",
      "|            2.0E7|2015|  Analytics|\n",
      "|        1700000.0|2013|  Analytics|\n",
      "|        8900000.0|2014|  Analytics|\n",
      "|            2.0E7|2015|  Analytics|\n",
      "|            2.0E7|2015|  Analytics|\n",
      "|        8900000.0|2014|  Analytics|\n",
      "|        1700000.0|2013|  Analytics|\n",
      "|        1700000.0|2013|  Analytics|\n",
      "|        8900000.0|2014|  Analytics|\n",
      "|        8900000.0|2014|  Analytics|\n",
      "|        8900000.0|2014|  Analytics|\n",
      "|        8900000.0|2014|  Analytics|\n",
      "|         150000.0|2014|     Mobile|\n",
      "|        1000050.0|2011|     Mobile|\n",
      "|        1000050.0|2011|     Mobile|\n",
      "|         150000.0|2014|     Mobile|\n",
      "+-----------------+----+-----------+\n",
      "only showing top 20 rows\n",
      "\n"
     ]
    }
   ],
   "source": [
    "sqlDF = spark.sql(\"SELECT * FROM investments\")\n",
    "sqlDF.show()"
   ]
  },
  {
   "cell_type": "markdown",
   "metadata": {},
   "source": [
    "### Year Wise"
   ]
  },
  {
   "cell_type": "code",
   "execution_count": 543,
   "metadata": {},
   "outputs": [],
   "source": [
    "SQLQUERY =  \"\"\"\n",
    "            SELECT CATEGORY, \n",
    "            CAST(YEAR AS INT), \n",
    "            SUM(RAISED_AMOUNT_USD) AS TOTAL, \n",
    "            CAST(SUM(RAISED_AMOUNT_USD) AS DECIMAL(30)) AS TOTAL_DEC \n",
    "            FROM INVESTMENTS GROUP \n",
    "            BY CATEGORY, YEAR \n",
    "            \"\"\"\n",
    "#  ORDER BY YEAR DESC, TOTAL DESC"
   ]
  },
  {
   "cell_type": "code",
   "execution_count": 544,
   "metadata": {},
   "outputs": [
    {
     "name": "stdout",
     "output_type": "stream",
     "text": [
      "+--------------------+----+-----------------+----------+\n",
      "|            CATEGORY|YEAR|            TOTAL| TOTAL_DEC|\n",
      "+--------------------+----+-----------------+----------+\n",
      "|      Interest Graph|2011|           3.28E7|  32800000|\n",
      "|           Insurance|2015|  5.70529580149E9|5705295801|\n",
      "|  Big Data Analytics|2013|     2.35683979E9|2356839790|\n",
      "|           Aerospace|2014|4.6013734510098E8| 460137345|\n",
      "|               Audio|2005|          1.058E8| 105800000|\n",
      "|Cloud Infrastructure|2010|     1.38360796E8| 138360796|\n",
      "|    Cloud Management|2010|         5.4528E8| 545280000|\n",
      "|                Apps|2008|   6.3178257004E8| 631782570|\n",
      "| Insurance Companies|2015|    1.523851749E7|  15238517|\n",
      "|    Mobile Analytics|2010|          4.205E7|  42050000|\n",
      "|          Networking|2009|     5.39435025E8| 539435025|\n",
      "|               Local|2010|     1.50161942E8| 150161942|\n",
      "|Information Techn...|2000|     6.25112115E8| 625112115|\n",
      "|       Home & Garden|2007|         5.0605E8| 506050000|\n",
      "|        Ad Targeting|2010|       4.191857E8| 419185700|\n",
      "|Communications Ha...|2011|         5.5758E8| 557580000|\n",
      "|            Creative|2012|     1.65391911E8| 165391911|\n",
      "|               Women|2011|     1.00048667E8| 100048667|\n",
      "|      K-12 Education|2011|     1.81926358E8| 181926358|\n",
      "|   Online Scheduling|2012|         9.5505E7|  95505000|\n",
      "+--------------------+----+-----------------+----------+\n",
      "only showing top 20 rows\n",
      "\n"
     ]
    }
   ],
   "source": [
    "sqlDF = spark.sql(SQLQUERY)\n",
    "sqlDF.show()"
   ]
  },
  {
   "cell_type": "markdown",
   "metadata": {},
   "source": [
    "### Total"
   ]
  },
  {
   "cell_type": "code",
   "execution_count": 567,
   "metadata": {},
   "outputs": [],
   "source": [
    "SQLQUERY =  \"\"\"\n",
    "            SELECT CATEGORY, SUM(RAISED_AMOUNT_USD) AS TOTAL, \n",
    "            CAST(SUM(RAISED_AMOUNT_USD) AS DECIMAL(30)) AS TOTAL_DEC \n",
    "            FROM INVESTMENTS GROUP \n",
    "            BY CATEGORY\n",
    "            ORDER BY TOTAL DESC\n",
    "            LIMIT 5\n",
    "            \"\"\"\n"
   ]
  },
  {
   "cell_type": "code",
   "execution_count": 568,
   "metadata": {},
   "outputs": [
    {
     "name": "stdout",
     "output_type": "stream",
     "text": [
      "+-------------------+--------------------+------------+\n",
      "|           CATEGORY|               TOTAL|   TOTAL_DEC|\n",
      "+-------------------+--------------------+------------+\n",
      "|      Biotechnology|3.004739520880866E11|300473952088|\n",
      "|           Software|2.542332471829773...|254233247183|\n",
      "|         E-Commerce|2.012235886316381...|201223588632|\n",
      "|             Mobile|1.876357592302670...|187635759230|\n",
      "|Enterprise Software|1.449232704289308...|144923270429|\n",
      "+-------------------+--------------------+------------+\n",
      "\n"
     ]
    }
   ],
   "source": [
    "sqlDFtop = spark.sql(SQLQUERY)\n",
    "sqlDFtop.show(10)\n",
    "categories = sqlDFtop.select('CATEGORY')"
   ]
  },
  {
   "cell_type": "code",
   "execution_count": 569,
   "metadata": {},
   "outputs": [
    {
     "data": {
      "text/plain": [
       "['Biotechnology', 'Software', 'E-Commerce', 'Mobile', 'Enterprise Software']"
      ]
     },
     "execution_count": 569,
     "metadata": {},
     "output_type": "execute_result"
    }
   ],
   "source": [
    "topCategories = [row.CATEGORY for row in categories.collect()]\n",
    "topCategories"
   ]
  },
  {
   "cell_type": "code",
   "execution_count": 570,
   "metadata": {},
   "outputs": [],
   "source": [
    "topCategoriesDF = sqlDF.filter(col('CATEGORY').isin(topCategories))"
   ]
  },
  {
   "cell_type": "code",
   "execution_count": 571,
   "metadata": {},
   "outputs": [
    {
     "data": {
      "text/plain": [
       "[('CATEGORY', 'string'),\n",
       " ('YEAR', 'int'),\n",
       " ('TOTAL', 'double'),\n",
       " ('TOTAL_DEC', 'decimal(30,0)')]"
      ]
     },
     "execution_count": 571,
     "metadata": {},
     "output_type": "execute_result"
    }
   ],
   "source": [
    "sqlDF.dtypes\n"
   ]
  },
  {
   "cell_type": "code",
   "execution_count": 600,
   "metadata": {},
   "outputs": [],
   "source": [
    "topCategoriesDFfrom1995 = topCategoriesDF.filter(col('YEAR') > startYear).sort(col(\"YEAR\").desc())"
   ]
  },
  {
   "cell_type": "code",
   "execution_count": 601,
   "metadata": {},
   "outputs": [
    {
     "name": "stdout",
     "output_type": "stream",
     "text": [
      "+-------------------+----+--------------------+-----------+\n",
      "|           CATEGORY|YEAR|               TOTAL|  TOTAL_DEC|\n",
      "+-------------------+----+--------------------+-----------+\n",
      "|Enterprise Software|2015|  3.7214521372294E10|37214521372|\n",
      "|             Mobile|2015|3.031919265541164...|30319192655|\n",
      "|         E-Commerce|2015|5.922417529146447E10|59224175291|\n",
      "|           Software|2015|5.194372393718017...|51943723937|\n",
      "|      Biotechnology|2015|  4.8271810280071E10|48271810280|\n",
      "|             Mobile|2014| 3.31661064626961E10|33166106463|\n",
      "|         E-Commerce|2014| 5.07963813857645E10|50796381386|\n",
      "|      Biotechnology|2014|3.371171925211666E10|33711719252|\n",
      "|           Software|2014| 4.38725382809973E10|43872538281|\n",
      "|Enterprise Software|2014| 3.16393701828181E10|31639370183|\n",
      "|           Software|2013|2.531187388842697E10|25311873888|\n",
      "|Enterprise Software|2013|1.809193652520398E10|18091936525|\n",
      "|         E-Commerce|2013| 2.10823063997447E10|21082306400|\n",
      "|      Biotechnology|2013|2.563309774528199...|25633097745|\n",
      "|             Mobile|2013| 1.70305782875018E10|17030578288|\n",
      "|      Biotechnology|2012|     2.2034623733E10|22034623733|\n",
      "|             Mobile|2012|1.275501552781552...|12755015528|\n",
      "|         E-Commerce|2012|2.185862173392320...|21858621734|\n",
      "|Enterprise Software|2012|1.406580402378092E10|14065804024|\n",
      "|           Software|2012|1.599819109223755...|15998191092|\n",
      "+-------------------+----+--------------------+-----------+\n",
      "only showing top 20 rows\n",
      "\n"
     ]
    }
   ],
   "source": [
    "topCategoriesDFfrom1995.show()"
   ]
  },
  {
   "cell_type": "code",
   "execution_count": 602,
   "metadata": {},
   "outputs": [
    {
     "data": {
      "text/plain": [
       "1"
      ]
     },
     "execution_count": 602,
     "metadata": {},
     "output_type": "execute_result"
    }
   ],
   "source": [
    "dict = {'Mobile': { 'Y':[0]  , 'T':[1,2]}}\n",
    "dict['Mobile']['T'][0]"
   ]
  },
  {
   "cell_type": "code",
   "execution_count": 603,
   "metadata": {},
   "outputs": [
    {
     "name": "stdout",
     "output_type": "stream",
     "text": [
      "Row(CATEGORY='Software', YEAR=2015, TOTAL=51943723937.180176, TOTAL_DEC=Decimal('51943723937'))\n",
      "Row(CATEGORY='Mobile', YEAR=2015, TOTAL=30319192655.411644, TOTAL_DEC=Decimal('30319192655'))\n",
      "Row(CATEGORY='Biotechnology', YEAR=2015, TOTAL=48271810280.071, TOTAL_DEC=Decimal('48271810280'))\n",
      "Row(CATEGORY='Enterprise Software', YEAR=2015, TOTAL=37214521372.294, TOTAL_DEC=Decimal('37214521372'))\n",
      "Row(CATEGORY='E-Commerce', YEAR=2015, TOTAL=59224175291.46447, TOTAL_DEC=Decimal('59224175291'))\n",
      "Row(CATEGORY='E-Commerce', YEAR=2014, TOTAL=50796381385.7645, TOTAL_DEC=Decimal('50796381386'))\n",
      "Row(CATEGORY='Mobile', YEAR=2014, TOTAL=33166106462.6961, TOTAL_DEC=Decimal('33166106463'))\n",
      "Row(CATEGORY='Biotechnology', YEAR=2014, TOTAL=33711719252.11666, TOTAL_DEC=Decimal('33711719252'))\n",
      "Row(CATEGORY='Software', YEAR=2014, TOTAL=43872538280.9973, TOTAL_DEC=Decimal('43872538281'))\n",
      "Row(CATEGORY='Enterprise Software', YEAR=2014, TOTAL=31639370182.8181, TOTAL_DEC=Decimal('31639370183'))\n",
      "Row(CATEGORY='E-Commerce', YEAR=2013, TOTAL=21082306399.7447, TOTAL_DEC=Decimal('21082306400'))\n",
      "Row(CATEGORY='Enterprise Software', YEAR=2013, TOTAL=18091936525.20398, TOTAL_DEC=Decimal('18091936525'))\n",
      "Row(CATEGORY='Mobile', YEAR=2013, TOTAL=17030578287.5018, TOTAL_DEC=Decimal('17030578288'))\n",
      "Row(CATEGORY='Software', YEAR=2013, TOTAL=25311873888.42697, TOTAL_DEC=Decimal('25311873888'))\n",
      "Row(CATEGORY='Biotechnology', YEAR=2013, TOTAL=25633097745.281998, TOTAL_DEC=Decimal('25633097745'))\n",
      "Row(CATEGORY='Biotechnology', YEAR=2012, TOTAL=22034623733.0, TOTAL_DEC=Decimal('22034623733'))\n",
      "Row(CATEGORY='E-Commerce', YEAR=2012, TOTAL=21858621733.923206, TOTAL_DEC=Decimal('21858621734'))\n",
      "Row(CATEGORY='Mobile', YEAR=2012, TOTAL=12755015527.815521, TOTAL_DEC=Decimal('12755015528'))\n",
      "Row(CATEGORY='Enterprise Software', YEAR=2012, TOTAL=14065804023.78092, TOTAL_DEC=Decimal('14065804024'))\n",
      "Row(CATEGORY='Software', YEAR=2012, TOTAL=15998191092.237556, TOTAL_DEC=Decimal('15998191092'))\n",
      "Row(CATEGORY='Software', YEAR=2011, TOTAL=15148255391.918, TOTAL_DEC=Decimal('15148255392'))\n",
      "Row(CATEGORY='Enterprise Software', YEAR=2011, TOTAL=10158784293.04, TOTAL_DEC=Decimal('10158784293'))\n",
      "Row(CATEGORY='E-Commerce', YEAR=2011, TOTAL=23235418550.66, TOTAL_DEC=Decimal('23235418551'))\n",
      "Row(CATEGORY='Mobile', YEAR=2011, TOTAL=11636483077.0, TOTAL_DEC=Decimal('11636483077'))\n",
      "Row(CATEGORY='Biotechnology', YEAR=2011, TOTAL=20653634246.0, TOTAL_DEC=Decimal('20653634246'))\n",
      "Row(CATEGORY='E-Commerce', YEAR=2010, TOTAL=5783545319.38074, TOTAL_DEC=Decimal('5783545319'))\n",
      "Row(CATEGORY='Mobile', YEAR=2010, TOTAL=5861969793.139999, TOTAL_DEC=Decimal('5861969793'))\n",
      "Row(CATEGORY='Biotechnology', YEAR=2010, TOTAL=23260647687.108, TOTAL_DEC=Decimal('23260647687'))\n",
      "Row(CATEGORY='Software', YEAR=2010, TOTAL=9621212635.4491, TOTAL_DEC=Decimal('9621212635'))\n",
      "Row(CATEGORY='Enterprise Software', YEAR=2010, TOTAL=7178596332.0, TOTAL_DEC=Decimal('7178596332'))\n",
      "Row(CATEGORY='E-Commerce', YEAR=2009, TOTAL=2186406083.0, TOTAL_DEC=Decimal('2186406083'))\n",
      "Row(CATEGORY='Software', YEAR=2009, TOTAL=7921416648.0, TOTAL_DEC=Decimal('7921416648'))\n",
      "Row(CATEGORY='Enterprise Software', YEAR=2009, TOTAL=3878453369.0, TOTAL_DEC=Decimal('3878453369'))\n",
      "Row(CATEGORY='Biotechnology', YEAR=2009, TOTAL=22825073128.0, TOTAL_DEC=Decimal('22825073128'))\n",
      "Row(CATEGORY='Mobile', YEAR=2009, TOTAL=17861945600.0, TOTAL_DEC=Decimal('17861945600'))\n",
      "Row(CATEGORY='Software', YEAR=2008, TOTAL=12662348503.942005, TOTAL_DEC=Decimal('12662348504'))\n",
      "Row(CATEGORY='Mobile', YEAR=2008, TOTAL=25117709056.904, TOTAL_DEC=Decimal('25117709057'))\n",
      "Row(CATEGORY='E-Commerce', YEAR=2008, TOTAL=2800013700.947, TOTAL_DEC=Decimal('2800013701'))\n",
      "Row(CATEGORY='Biotechnology', YEAR=2008, TOTAL=16095351970.620003, TOTAL_DEC=Decimal('16095351971'))\n",
      "Row(CATEGORY='Enterprise Software', YEAR=2008, TOTAL=4962432521.0, TOTAL_DEC=Decimal('4962432521'))\n",
      "Row(CATEGORY='Enterprise Software', YEAR=2007, TOTAL=4866887542.534, TOTAL_DEC=Decimal('4866887543'))\n",
      "Row(CATEGORY='E-Commerce', YEAR=2007, TOTAL=2424233622.184646, TOTAL_DEC=Decimal('2424233622'))\n",
      "Row(CATEGORY='Software', YEAR=2007, TOTAL=15989260515.081398, TOTAL_DEC=Decimal('15989260515'))\n",
      "Row(CATEGORY='Biotechnology', YEAR=2007, TOTAL=30340549389.686996, TOTAL_DEC=Decimal('30340549390'))\n",
      "Row(CATEGORY='Mobile', YEAR=2007, TOTAL=11046289080.664001, TOTAL_DEC=Decimal('11046289081'))\n",
      "Row(CATEGORY='E-Commerce', YEAR=2006, TOTAL=1597639551.569, TOTAL_DEC=Decimal('1597639552'))\n",
      "Row(CATEGORY='Biotechnology', YEAR=2006, TOTAL=15925340476.938, TOTAL_DEC=Decimal('15925340477'))\n",
      "Row(CATEGORY='Mobile', YEAR=2006, TOTAL=8474637801.25, TOTAL_DEC=Decimal('8474637801'))\n",
      "Row(CATEGORY='Enterprise Software', YEAR=2006, TOTAL=3661941502.0, TOTAL_DEC=Decimal('3661941502'))\n",
      "Row(CATEGORY='Software', YEAR=2006, TOTAL=13386697398.887001, TOTAL_DEC=Decimal('13386697399'))\n",
      "Row(CATEGORY='Mobile', YEAR=2005, TOTAL=6074045597.884, TOTAL_DEC=Decimal('6074045598'))\n",
      "Row(CATEGORY='Software', YEAR=2005, TOTAL=12182415519.5279, TOTAL_DEC=Decimal('12182415520'))\n",
      "Row(CATEGORY='E-Commerce', YEAR=2005, TOTAL=1723105689.0, TOTAL_DEC=Decimal('1723105689'))\n",
      "Row(CATEGORY='Enterprise Software', YEAR=2005, TOTAL=2877603853.259812, TOTAL_DEC=Decimal('2877603853'))\n",
      "Row(CATEGORY='Biotechnology', YEAR=2005, TOTAL=11634854335.264, TOTAL_DEC=Decimal('11634854335'))\n",
      "Row(CATEGORY='Mobile', YEAR=2004, TOTAL=3659769189.0, TOTAL_DEC=Decimal('3659769189'))\n",
      "Row(CATEGORY='E-Commerce', YEAR=2004, TOTAL=1304425000.0, TOTAL_DEC=Decimal('1304425000'))\n",
      "Row(CATEGORY='Enterprise Software', YEAR=2004, TOTAL=2367914826.0, TOTAL_DEC=Decimal('2367914826'))\n",
      "Row(CATEGORY='Software', YEAR=2004, TOTAL=6765924246.91, TOTAL_DEC=Decimal('6765924247'))\n",
      "Row(CATEGORY='Biotechnology', YEAR=2004, TOTAL=16082322549.0, TOTAL_DEC=Decimal('16082322549'))\n",
      "Row(CATEGORY='E-Commerce', YEAR=2003, TOTAL=442872572.0, TOTAL_DEC=Decimal('442872572'))\n",
      "Row(CATEGORY='Biotechnology', YEAR=2003, TOTAL=8198870182.0, TOTAL_DEC=Decimal('8198870182'))\n",
      "Row(CATEGORY='Software', YEAR=2003, TOTAL=5226750464.0, TOTAL_DEC=Decimal('5226750464'))\n",
      "Row(CATEGORY='Enterprise Software', YEAR=2003, TOTAL=1325094048.0, TOTAL_DEC=Decimal('1325094048'))\n",
      "Row(CATEGORY='Mobile', YEAR=2003, TOTAL=1499720000.0, TOTAL_DEC=Decimal('1499720000'))\n",
      "Row(CATEGORY='Enterprise Software', YEAR=2002, TOTAL=1228650000.0, TOTAL_DEC=Decimal('1228650000'))\n",
      "Row(CATEGORY='Software', YEAR=2002, TOTAL=4233261724.0, TOTAL_DEC=Decimal('4233261724'))\n",
      "Row(CATEGORY='E-Commerce', YEAR=2002, TOTAL=99500000.0, TOTAL_DEC=Decimal('99500000'))\n",
      "Row(CATEGORY='Mobile', YEAR=2002, TOTAL=952105318.0, TOTAL_DEC=Decimal('952105318'))\n",
      "Row(CATEGORY='Biotechnology', YEAR=2002, TOTAL=3730721055.0, TOTAL_DEC=Decimal('3730721055'))\n",
      "Row(CATEGORY='Enterprise Software', YEAR=2001, TOTAL=766300175.0, TOTAL_DEC=Decimal('766300175'))\n",
      "Row(CATEGORY='Mobile', YEAR=2001, TOTAL=817408705.0, TOTAL_DEC=Decimal('817408705'))\n",
      "Row(CATEGORY='E-Commerce', YEAR=2001, TOTAL=1474957242.0, TOTAL_DEC=Decimal('1474957242'))\n",
      "Row(CATEGORY='Biotechnology', YEAR=2001, TOTAL=1335255496.0, TOTAL_DEC=Decimal('1335255496'))\n",
      "Row(CATEGORY='Software', YEAR=2001, TOTAL=6566721385.0, TOTAL_DEC=Decimal('6566721385'))\n",
      "Row(CATEGORY='Software', YEAR=2000, TOTAL=5447989495.0, TOTAL_DEC=Decimal('5447989495'))\n",
      "Row(CATEGORY='Biotechnology', YEAR=2000, TOTAL=689871822.0, TOTAL_DEC=Decimal('689871822'))\n",
      "Row(CATEGORY='E-Commerce', YEAR=2000, TOTAL=3003081142.0, TOTAL_DEC=Decimal('3003081142'))\n",
      "Row(CATEGORY='Enterprise Software', YEAR=2000, TOTAL=438669863.0, TOTAL_DEC=Decimal('438669863'))\n",
      "Row(CATEGORY='Mobile', YEAR=2000, TOTAL=837448847.0, TOTAL_DEC=Decimal('837448847'))\n",
      "Row(CATEGORY='Mobile', YEAR=1999, TOTAL=412834231.0, TOTAL_DEC=Decimal('412834231'))\n",
      "Row(CATEGORY='E-Commerce', YEAR=1999, TOTAL=2162305348.0, TOTAL_DEC=Decimal('2162305348'))\n",
      "Row(CATEGORY='Biotechnology', YEAR=1999, TOTAL=45408740.0, TOTAL_DEC=Decimal('45408740'))\n",
      "Row(CATEGORY='Software', YEAR=1999, TOTAL=1852326056.42, TOTAL_DEC=Decimal('1852326056'))\n",
      "Row(CATEGORY='Enterprise Software', YEAR=1999, TOTAL=138910000.0, TOTAL_DEC=Decimal('138910000'))\n",
      "Row(CATEGORY='Software', YEAR=1998, TOTAL=7500000.0, TOTAL_DEC=Decimal('7500000'))\n",
      "Row(CATEGORY='Biotechnology', YEAR=1998, TOTAL=4800000.0, TOTAL_DEC=Decimal('4800000'))\n",
      "Row(CATEGORY='Enterprise Software', YEAR=1998, TOTAL=30900000.0, TOTAL_DEC=Decimal('30900000'))\n",
      "Row(CATEGORY='Mobile', YEAR=1998, TOTAL=79500000.0, TOTAL_DEC=Decimal('79500000'))\n",
      "Row(CATEGORY='Software', YEAR=1997, TOTAL=43000000.0, TOTAL_DEC=Decimal('43000000'))\n",
      "Row(CATEGORY='Enterprise Software', YEAR=1997, TOTAL=28500000.0, TOTAL_DEC=Decimal('28500000'))\n",
      "Row(CATEGORY='Mobile', YEAR=1997, TOTAL=33000000.0, TOTAL_DEC=Decimal('33000000'))\n",
      "Row(CATEGORY='E-Commerce', YEAR=1997, TOTAL=16600000.0, TOTAL_DEC=Decimal('16600000'))\n"
     ]
    }
   ],
   "source": [
    "dict = {}\n",
    "\n",
    "for row in topCategoriesDFfrom1995.collect():\n",
    "    print(row)\n",
    "    if (row.CATEGORY in dict ):\n",
    "        dict[row.CATEGORY]['Y'].append(row.YEAR)\n",
    "        dict[row.CATEGORY]['T'].append(row.TOTAL)\n",
    "    else:\n",
    "        dict[row.CATEGORY] = { 'Y': [row.YEAR]  , 'T':[row.TOTAL]}\n",
    "    \n",
    "    "
   ]
  },
  {
   "cell_type": "code",
   "execution_count": 604,
   "metadata": {},
   "outputs": [
    {
     "data": {
      "text/plain": [
       "{'Software': {'Y': [2015,\n",
       "   2014,\n",
       "   2013,\n",
       "   2012,\n",
       "   2011,\n",
       "   2010,\n",
       "   2009,\n",
       "   2008,\n",
       "   2007,\n",
       "   2006,\n",
       "   2005,\n",
       "   2004,\n",
       "   2003,\n",
       "   2002,\n",
       "   2001,\n",
       "   2000,\n",
       "   1999,\n",
       "   1998,\n",
       "   1997],\n",
       "  'T': [51943723937.180176,\n",
       "   43872538280.9973,\n",
       "   25311873888.42697,\n",
       "   15998191092.237556,\n",
       "   15148255391.918,\n",
       "   9621212635.4491,\n",
       "   7921416648.0,\n",
       "   12662348503.942005,\n",
       "   15989260515.081398,\n",
       "   13386697398.887001,\n",
       "   12182415519.5279,\n",
       "   6765924246.91,\n",
       "   5226750464.0,\n",
       "   4233261724.0,\n",
       "   6566721385.0,\n",
       "   5447989495.0,\n",
       "   1852326056.42,\n",
       "   7500000.0,\n",
       "   43000000.0]},\n",
       " 'Mobile': {'Y': [2015,\n",
       "   2014,\n",
       "   2013,\n",
       "   2012,\n",
       "   2011,\n",
       "   2010,\n",
       "   2009,\n",
       "   2008,\n",
       "   2007,\n",
       "   2006,\n",
       "   2005,\n",
       "   2004,\n",
       "   2003,\n",
       "   2002,\n",
       "   2001,\n",
       "   2000,\n",
       "   1999,\n",
       "   1998,\n",
       "   1997],\n",
       "  'T': [30319192655.411644,\n",
       "   33166106462.6961,\n",
       "   17030578287.5018,\n",
       "   12755015527.815521,\n",
       "   11636483077.0,\n",
       "   5861969793.139999,\n",
       "   17861945600.0,\n",
       "   25117709056.904,\n",
       "   11046289080.664001,\n",
       "   8474637801.25,\n",
       "   6074045597.884,\n",
       "   3659769189.0,\n",
       "   1499720000.0,\n",
       "   952105318.0,\n",
       "   817408705.0,\n",
       "   837448847.0,\n",
       "   412834231.0,\n",
       "   79500000.0,\n",
       "   33000000.0]},\n",
       " 'Biotechnology': {'Y': [2015,\n",
       "   2014,\n",
       "   2013,\n",
       "   2012,\n",
       "   2011,\n",
       "   2010,\n",
       "   2009,\n",
       "   2008,\n",
       "   2007,\n",
       "   2006,\n",
       "   2005,\n",
       "   2004,\n",
       "   2003,\n",
       "   2002,\n",
       "   2001,\n",
       "   2000,\n",
       "   1999,\n",
       "   1998],\n",
       "  'T': [48271810280.071,\n",
       "   33711719252.11666,\n",
       "   25633097745.281998,\n",
       "   22034623733.0,\n",
       "   20653634246.0,\n",
       "   23260647687.108,\n",
       "   22825073128.0,\n",
       "   16095351970.620003,\n",
       "   30340549389.686996,\n",
       "   15925340476.938,\n",
       "   11634854335.264,\n",
       "   16082322549.0,\n",
       "   8198870182.0,\n",
       "   3730721055.0,\n",
       "   1335255496.0,\n",
       "   689871822.0,\n",
       "   45408740.0,\n",
       "   4800000.0]},\n",
       " 'Enterprise Software': {'Y': [2015,\n",
       "   2014,\n",
       "   2013,\n",
       "   2012,\n",
       "   2011,\n",
       "   2010,\n",
       "   2009,\n",
       "   2008,\n",
       "   2007,\n",
       "   2006,\n",
       "   2005,\n",
       "   2004,\n",
       "   2003,\n",
       "   2002,\n",
       "   2001,\n",
       "   2000,\n",
       "   1999,\n",
       "   1998,\n",
       "   1997],\n",
       "  'T': [37214521372.294,\n",
       "   31639370182.8181,\n",
       "   18091936525.20398,\n",
       "   14065804023.78092,\n",
       "   10158784293.04,\n",
       "   7178596332.0,\n",
       "   3878453369.0,\n",
       "   4962432521.0,\n",
       "   4866887542.534,\n",
       "   3661941502.0,\n",
       "   2877603853.259812,\n",
       "   2367914826.0,\n",
       "   1325094048.0,\n",
       "   1228650000.0,\n",
       "   766300175.0,\n",
       "   438669863.0,\n",
       "   138910000.0,\n",
       "   30900000.0,\n",
       "   28500000.0]},\n",
       " 'E-Commerce': {'Y': [2015,\n",
       "   2014,\n",
       "   2013,\n",
       "   2012,\n",
       "   2011,\n",
       "   2010,\n",
       "   2009,\n",
       "   2008,\n",
       "   2007,\n",
       "   2006,\n",
       "   2005,\n",
       "   2004,\n",
       "   2003,\n",
       "   2002,\n",
       "   2001,\n",
       "   2000,\n",
       "   1999,\n",
       "   1997],\n",
       "  'T': [59224175291.46447,\n",
       "   50796381385.7645,\n",
       "   21082306399.7447,\n",
       "   21858621733.923206,\n",
       "   23235418550.66,\n",
       "   5783545319.38074,\n",
       "   2186406083.0,\n",
       "   2800013700.947,\n",
       "   2424233622.184646,\n",
       "   1597639551.569,\n",
       "   1723105689.0,\n",
       "   1304425000.0,\n",
       "   442872572.0,\n",
       "   99500000.0,\n",
       "   1474957242.0,\n",
       "   3003081142.0,\n",
       "   2162305348.0,\n",
       "   16600000.0]}}"
      ]
     },
     "execution_count": 604,
     "metadata": {},
     "output_type": "execute_result"
    }
   ],
   "source": [
    "dict"
   ]
  },
  {
   "cell_type": "code",
   "execution_count": 605,
   "metadata": {},
   "outputs": [
    {
     "data": {
      "image/png": "[encoded data removed]",
      "text/plain": [
       "<Figure size 432x288 with 1 Axes>"
      ]
     },
     "metadata": {
      "needs_background": "light"
     },
     "output_type": "display_data"
    }
   ],
   "source": [
    "\n",
    "plt.plot([1, 2, 3, 4], [1, 4, 9, 16])\n",
    "plt.ylabel('some numbers')\n",
    "plt.show()"
   ]
  },
  {
   "cell_type": "code",
   "execution_count": 614,
   "metadata": {},
   "outputs": [
    {
     "ename": "NameError",
     "evalue": "name 'cycle' is not defined",
     "output_type": "error",
     "traceback": [
      "\u001b[0;31m---------------------------------------------------------------------------\u001b[0m",
      "\u001b[0;31mNameError\u001b[0m                                 Traceback (most recent call last)",
      "\u001b[0;32m<ipython-input-614-c23956f4e8cc>\u001b[0m in \u001b[0;36m<module>\u001b[0;34m\u001b[0m\n\u001b[0;32m----> 1\u001b[0;31m \u001b[0mcolor\u001b[0m\u001b[0;34m=\u001b[0m\u001b[0mcycle\u001b[0m\u001b[0;34m(\u001b[0m\u001b[0;34m'r'\u001b[0m\u001b[0;34m,\u001b[0m\u001b[0;34m'b'\u001b[0m\u001b[0;34m)\u001b[0m\u001b[0;34m\u001b[0m\u001b[0;34m\u001b[0m\u001b[0m\n\u001b[0m\u001b[1;32m      2\u001b[0m \u001b[0;34m\u001b[0m\u001b[0m\n\u001b[1;32m      3\u001b[0m \u001b[0;31m# evenly sampled time at 200ms intervals\u001b[0m\u001b[0;34m\u001b[0m\u001b[0;34m\u001b[0m\u001b[0;34m\u001b[0m\u001b[0m\n\u001b[1;32m      4\u001b[0m \u001b[0;34m\u001b[0m\u001b[0m\n\u001b[1;32m      5\u001b[0m \u001b[0my\u001b[0m \u001b[0;34m=\u001b[0m \u001b[0mnp\u001b[0m\u001b[0;34m.\u001b[0m\u001b[0marray\u001b[0m\u001b[0;34m(\u001b[0m\u001b[0mlist\u001b[0m\u001b[0;34m(\u001b[0m\u001b[0mrange\u001b[0m\u001b[0;34m(\u001b[0m\u001b[0mstartYear\u001b[0m\u001b[0;34m,\u001b[0m\u001b[0mendYear\u001b[0m\u001b[0;34m)\u001b[0m\u001b[0;34m)\u001b[0m\u001b[0;34m)\u001b[0m\u001b[0;34m\u001b[0m\u001b[0;34m\u001b[0m\u001b[0m\n",
      "\u001b[0;31mNameError\u001b[0m: name 'cycle' is not defined"
     ]
    }
   ],
   "source": [
    "color=cycle('r','b')\n",
    "\n",
    "# evenly sampled time at 200ms intervals\n",
    "\n",
    "y = np.array(list(range(startYear,endYear)))\n",
    "z = np.array(list(range(100,120)))\n",
    "# red dashes, blue squares and green triangles\n",
    "# d = list(y, y, 'r--', y, y, 'bs', y, y, 'g^'])\n",
    "for cat,c in zip(dict,color):\n",
    "    plt.plot(dict[cat]['Y'], dict[cat]['T'], c = c, label = cat)\n",
    "\n",
    "plt.legend()\n",
    "plt.show()"
   ]
  },
  {
   "cell_type": "code",
   "execution_count": 576,
   "metadata": {},
   "outputs": [
    {
     "data": {
      "text/plain": [
       "array([0. , 0.2, 0.4, 0.6, 0.8, 1. , 1.2, 1.4, 1.6, 1.8, 2. , 2.2, 2.4,\n",
       "       2.6, 2.8, 3. , 3.2, 3.4, 3.6, 3.8, 4. , 4.2, 4.4, 4.6, 4.8])"
      ]
     },
     "execution_count": 576,
     "metadata": {},
     "output_type": "execute_result"
    }
   ],
   "source": [
    "t"
   ]
  },
  {
   "cell_type": "code",
   "execution_count": 577,
   "metadata": {},
   "outputs": [
    {
     "data": {
      "text/plain": [
       "array([1995, 1996, 1997, 1998, 1999, 2000, 2001, 2002, 2003, 2004, 2005,\n",
       "       2006, 2007, 2008, 2009, 2010, 2011, 2012, 2013, 2014])"
      ]
     },
     "execution_count": 577,
     "metadata": {},
     "output_type": "execute_result"
    }
   ],
   "source": [
    "y"
   ]
  },
  {
   "cell_type": "code",
   "execution_count": null,
   "metadata": {},
   "outputs": [],
   "source": []
  },
  {
   "cell_type": "code",
   "execution_count": 556,
   "metadata": {},
   "outputs": [],
   "source": [
    "sqlDF.write.mode('overwrite').option(\"header\", \"true\").csv('hdfs://localhost:9000/user/lavish/data/topcategories.csv')"
   ]
  }
 ],
 "metadata": {
  "kernelspec": {
   "display_name": "Python 3",
   "language": "python",
   "name": "python3"
  },
  "language_info": {
   "codemirror_mode": {
    "name": "ipython",
    "version": 3
   },
   "file_extension": ".py",
   "mimetype": "text/x-python",
   "name": "python",
   "nbconvert_exporter": "python",
   "pygments_lexer": "ipython3",
   "version": "3.6.9"
  }
 },
 "nbformat": 4,
 "nbformat_minor": 4
}
