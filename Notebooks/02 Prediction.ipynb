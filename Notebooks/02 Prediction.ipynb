{
 "cells": [
  {
   "cell_type": "code",
   "execution_count": 1,
   "metadata": {},
   "outputs": [],
   "source": [
    "from pyspark.sql import SparkSession\n",
    "from pyspark.sql.functions import col, split, explode,substring, length, udf\n",
    "from pyspark.sql.types import *\n",
    "from pyspark.sql import Row\n",
    "from itertools import cycle\n",
    "from pyspark.ml.regression import LinearRegression\n",
    "import numpy as np\n",
    "\n",
    "import matplotlib.pyplot as plt\n",
    "%matplotlib inline\n",
    "\n",
    "from pyspark.sql import functions as F\n",
    "from pyspark.sql import types as T"
   ]
  },
  {
   "cell_type": "code",
   "execution_count": 2,
   "metadata": {},
   "outputs": [],
   "source": [
    "spark = SparkSession \\\n",
    "    .builder \\\n",
    "    .appName(\"Python Spark SQL basic example\") \\\n",
    "    .config(\"spark.some.config.option\", \"some-value\") \\\n",
    "    .getOrCreate()"
   ]
  },
  {
   "cell_type": "code",
   "execution_count": 3,
   "metadata": {},
   "outputs": [
    {
     "name": "stdout",
     "output_type": "stream",
     "text": [
      "+-----------------+----+---------------+\n",
      "|raised_amount_usd|year|       category|\n",
      "+-----------------+----+---------------+\n",
      "|            1.5E7|2014|     E-Commerce|\n",
      "|            1.4E7|2015|         Drones|\n",
      "|            1.4E7|2015|  Manufacturing|\n",
      "|        1870000.0|2011|             3D|\n",
      "|        1870000.0|2011|Computer Vision|\n",
      "+-----------------+----+---------------+\n",
      "only showing top 5 rows\n",
      "\n"
     ]
    }
   ],
   "source": [
    "sqlDF = spark.sql(\"SELECT * FROM investments\")\n",
    "sqlDF.show(5)"
   ]
  },
  {
   "cell_type": "markdown",
   "metadata": {},
   "source": [
    "### Year Wise"
   ]
  },
  {
   "cell_type": "code",
   "execution_count": 4,
   "metadata": {},
   "outputs": [],
   "source": [
    "SQLQUERY =  \"\"\"\n",
    "            SELECT CATEGORY, \n",
    "            CAST(YEAR AS INT), \n",
    "            SUM(RAISED_AMOUNT_USD) AS TOTAL, \n",
    "            CAST(SUM(RAISED_AMOUNT_USD) AS DECIMAL(30)) AS TOTAL_DEC \n",
    "            FROM INVESTMENTS GROUP \n",
    "            BY CATEGORY, YEAR \n",
    "            \"\"\"\n",
    "#  ORDER BY YEAR DESC, TOTAL DESC"
   ]
  },
  {
   "cell_type": "code",
   "execution_count": 5,
   "metadata": {},
   "outputs": [
    {
     "name": "stdout",
     "output_type": "stream",
     "text": [
      "+------------------+----+--------------+----------+\n",
      "|          CATEGORY|YEAR|         TOTAL| TOTAL_DEC|\n",
      "+------------------+----+--------------+----------+\n",
      "|  Mobile Analytics|2010|       4.205E7|  42050000|\n",
      "|Big Data Analytics|2013|  2.35683979E9|2356839790|\n",
      "| Online Scheduling|2012|      9.5505E7|  95505000|\n",
      "|          Creative|2012|  1.65391911E8| 165391911|\n",
      "|              Apps|2008|6.3178257004E8| 631782570|\n",
      "+------------------+----+--------------+----------+\n",
      "only showing top 5 rows\n",
      "\n"
     ]
    }
   ],
   "source": [
    "sqlDF = spark.sql(SQLQUERY)\n",
    "sqlDF.show(5)"
   ]
  },
  {
   "cell_type": "code",
   "execution_count": 6,
   "metadata": {},
   "outputs": [
    {
     "name": "stdout",
     "output_type": "stream",
     "text": [
      "+------------------+--------+--------------+\n",
      "|          CATEGORY|FEATURES|         TOTAL|\n",
      "+------------------+--------+--------------+\n",
      "|  Mobile Analytics|[2010.0]|       4.205E7|\n",
      "|Big Data Analytics|[2013.0]|  2.35683979E9|\n",
      "| Online Scheduling|[2012.0]|      9.5505E7|\n",
      "|          Creative|[2012.0]|  1.65391911E8|\n",
      "|              Apps|[2008.0]|6.3178257004E8|\n",
      "+------------------+--------+--------------+\n",
      "only showing top 5 rows\n",
      "\n"
     ]
    }
   ],
   "source": [
    "from pyspark.ml.feature import VectorAssembler\n",
    "\n",
    "vectorAssembler = VectorAssembler(inputCols = ['YEAR'], outputCol = 'FEATURES')\n",
    "featureDF = vectorAssembler.transform(sqlDF).select('CATEGORY', 'FEATURES', 'TOTAL')\n",
    "\n",
    "featureDF.show(5)"
   ]
  },
  {
   "cell_type": "code",
   "execution_count": 7,
   "metadata": {},
   "outputs": [],
   "source": [
    "f = featureDF.select('CATEGORY').distinct()\n"
   ]
  },
  {
   "cell_type": "code",
   "execution_count": 8,
   "metadata": {},
   "outputs": [],
   "source": [
    "Categories = [row.CATEGORY for row in f.collect()]\n"
   ]
  },
  {
   "cell_type": "code",
   "execution_count": 9,
   "metadata": {},
   "outputs": [
    {
     "data": {
      "text/plain": [
       "837"
      ]
     },
     "execution_count": 9,
     "metadata": {},
     "output_type": "execute_result"
    }
   ],
   "source": [
    "len(Categories)"
   ]
  },
  {
   "cell_type": "code",
   "execution_count": 10,
   "metadata": {},
   "outputs": [],
   "source": [
    "# Features matrix to predict the amount for the Year 2020\n",
    "\n",
    "l =  [(2020,)]\n",
    "\n",
    "rdd = sc.parallelize(l)\n",
    "test = rdd.map(lambda x: Row(YEAR=x[0] ))\n",
    "testDF = sqlContext.createDataFrame(test)\n",
    "\n",
    "vectorAssembler = VectorAssembler(inputCols = ['YEAR'], outputCol = 'FEATURES')\n",
    "vectorDF = vectorAssembler.transform(testDF).select('FEATURES')"
   ]
  },
  {
   "cell_type": "code",
   "execution_count": 11,
   "metadata": {},
   "outputs": [],
   "source": [
    "#count = 0 \n",
    "summaryInfo = []\n",
    "columns = ['Category', 'Gradient', 'Intercept','RMSE', 'R2', 'Pediction']\n",
    "\n",
    "statInfo = []\n",
    "for category in Categories:\n",
    "    #print(category)\n",
    "    categoryDF=featureDF.filter(featureDF.CATEGORY == category)\n",
    "    if(categoryDF.count() > 10):\n",
    "        #count +=1\n",
    "        lr = LinearRegression(featuresCol = 'FEATURES', labelCol='TOTAL', maxIter=10, regParam=0.3, elasticNetParam=0.8)\n",
    "        lr_model = lr.fit(categoryDF)\n",
    "        if (lr_model.summary.r2 >= .5):\n",
    "            row=(category\n",
    "                 ,lr_model.coefficients\n",
    "                 ,lr_model.intercept\n",
    "                 ,lr_model.summary.rootMeanSquaredError\n",
    "                 ,lr_model.summary.r2\n",
    "                 ,lr_model.transform(vectorDF).take(1)[0].prediction )\n",
    "            summaryInfo.append(row)                        \n",
    "summaryDF = spark.createDataFrame(summaryInfo, columns)\n"
   ]
  },
  {
   "cell_type": "code",
   "execution_count": 12,
   "metadata": {},
   "outputs": [
    {
     "name": "stdout",
     "output_type": "stream",
     "text": [
      "+--------------------+--------------------+--------------------+--------------------+------------------+--------------------+\n",
      "|            Category|            Gradient|           Intercept|                RMSE|                R2|           Pediction|\n",
      "+--------------------+--------------------+--------------------+--------------------+------------------+--------------------+\n",
      "|    Personal Finance|[3.09531844548871...|-6.20846579539486...|1.1403333171358914E9|0.5257188832329653|  4.40774644923291E9|\n",
      "|Reviews and Recom...|[9.38435051053559...|-1.88076601008072...| 2.252600279853369E8|0.6748252913534014|1.4872793047460022E9|\n",
      "|         Health Care|[1.08986421816095...|-2.17925088640816...|2.0237455217200394E9|0.8747611056595744|2.227483427696704E10|\n",
      "|Application Perfo...|[1.46386390370929...|-2.93690139320376...|4.7040592338191056E8|0.5668998218851247|2.0103692289013062E9|\n",
      "|        Credit Cards|[6.33419228608998...|-1.27009681219964...|2.5974312104301742E8|0.5027780036421106| 9.410029590531769E8|\n",
      "|       Collaboration|[2.88729181301990...|-5.78680486877529...|1.1126428185752177E9|0.5577629546359777| 4.552459352491821E9|\n",
      "|               Video|[2.98971570988925...|-5.98228194300554...|1.1313897051071873E9|0.6270858327162598| 5.694379097075684E9|\n",
      "|   Retail Technology|[5.09435917649277...|-1.02077339130405...|2.0878675224244386E8|0.5065814877897408| 8.287162347489319E8|\n",
      "|              EdTech|[2.06764166217000...|-4.14113543353701E11| 8.128661690529596E8|0.6253133179808276| 3.550072404640381E9|\n",
      "|                 SEO|[3.28335373355263...|-6.56729294713806...|1.3925710858168542E8|0.5567569012102666| 6.508159463824539E8|\n",
      "|            Security|[4.17640613008209E8]|-8.35249411524829...|1.7446278483802702E9|0.6110471335674122| 8.384626751752808E9|\n",
      "|     Brand Marketing|[1.08303617187889...|-2.16864846254352...|3.7368473615189695E8|0.6773067149915923|1.9084604651853027E9|\n",
      "|             Fashion|[5.06023941051812...|-1.01392455132537...|1.6144677184628706E9|0.6719792518791301| 8.243809599288696E9|\n",
      "|                 iOS|[1.33775193847040...|-2.68324351685931...| 3.109009683731991E8|0.7182528190870081|1.9015398850910034E9|\n",
      "|    Machine Learning|[3.90223939089028...|-7.83200461884849...|  1.08196640292099E9|0.5892549781300864| 5.051895074988037E9|\n",
      "|          Accounting|[5.90140786323025...|-1.18233689472827...| 1.940194529923822E8|0.6406420426161794| 9.747493644239502E8|\n",
      "|              iPhone|[1.36587079842299...|-2.73559386852964...| 3.341780337532193E8|0.7672261239184074| 2.346514428479889E9|\n",
      "|     Cloud Computing|[6.58598130472808...|-1.31892577510254...|2.3820565736396523E9|0.6479952335985815|1.144244845253051...|\n",
      "|       IT Management|[3.44475677072277...|-6.90279272235049...|1.1933907524279033E8| 0.538423219014543| 5.561595450950317E8|\n",
      "|Marketing Automation|[1.19724126876351...|-2.39793201618893...| 5.574795854488144E8|0.5245369647977933|2.0495346713373413E9|\n",
      "+--------------------+--------------------+--------------------+--------------------+------------------+--------------------+\n",
      "only showing top 20 rows\n",
      "\n"
     ]
    }
   ],
   "source": [
    "summaryDF.show()"
   ]
  },
  {
   "cell_type": "code",
   "execution_count": 13,
   "metadata": {},
   "outputs": [],
   "source": [
    "summaryDF.write.mode(\"overwrite\").saveAsTable(\"summaryDF\")"
   ]
  },
  {
   "cell_type": "code",
   "execution_count": 15,
   "metadata": {},
   "outputs": [
    {
     "name": "stdout",
     "output_type": "stream",
     "text": [
      "+--------------------+--------------------+--------------------+--------------------+------------------+--------------------+\n",
      "|            Category|            Gradient|           Intercept|                RMSE|                R2|           Pediction|\n",
      "+--------------------+--------------------+--------------------+--------------------+------------------+--------------------+\n",
      "|    Personal Finance|[3.09531844548871...|-6.20846579539486...|1.1403333171358914E9|0.5257188832329653|  4.40774644923291E9|\n",
      "|Reviews and Recom...|[9.38435051053559...|-1.88076601008072...| 2.252600279853369E8|0.6748252913534014|1.4872793047460022E9|\n",
      "|         Health Care|[1.08986421816095...|-2.17925088640816...|2.0237455217200394E9|0.8747611056595744|2.227483427696704E10|\n",
      "|Application Perfo...|[1.46386390370929...|-2.93690139320376...|4.7040592338191056E8|0.5668998218851247|2.0103692289013062E9|\n",
      "|        Credit Cards|[6.33419228608998...|-1.27009681219964...|2.5974312104301742E8|0.5027780036421106| 9.410029590531769E8|\n",
      "+--------------------+--------------------+--------------------+--------------------+------------------+--------------------+\n",
      "only showing top 5 rows\n",
      "\n"
     ]
    }
   ],
   "source": [
    "SQLQUERY =  \"\"\"\n",
    "            SELECT *\n",
    "            FROM summaryDF\n",
    "            \n",
    "            \"\"\"\n",
    "#  ORDER BY YEAR DESC, TOTAL DESC\n",
    "\n",
    "sqlDF = spark.sql(SQLQUERY)\n",
    "sqlDF.show(5)"
   ]
  },
  {
   "cell_type": "code",
   "execution_count": null,
   "metadata": {},
   "outputs": [],
   "source": []
  }
 ],
 "metadata": {
  "kernelspec": {
   "display_name": "Python 3",
   "language": "python",
   "name": "python3"
  },
  "language_info": {
   "codemirror_mode": {
    "name": "ipython",
    "version": 3
   },
   "file_extension": ".py",
   "mimetype": "text/x-python",
   "name": "python",
   "nbconvert_exporter": "python",
   "pygments_lexer": "ipython3",
   "version": "3.6.9"
  }
 },
 "nbformat": 4,
 "nbformat_minor": 4
}
