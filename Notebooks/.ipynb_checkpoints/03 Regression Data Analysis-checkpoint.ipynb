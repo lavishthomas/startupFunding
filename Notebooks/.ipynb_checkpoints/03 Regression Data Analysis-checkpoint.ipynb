{
 "cells": [
  {
   "cell_type": "code",
   "execution_count": 1,
   "metadata": {},
   "outputs": [],
   "source": [
    "from pyspark.sql import SparkSession\n",
    "from pyspark.sql.functions import col, split, explode,substring, length, udf\n",
    "from pyspark.sql.types import *\n",
    "from pyspark.sql import Row\n",
    "from itertools import cycle\n",
    "from pyspark.ml.regression import LinearRegression\n",
    "import numpy as np\n",
    "\n",
    "import matplotlib.pyplot as plt\n",
    "%matplotlib inline\n",
    "\n",
    "from pyspark.sql import functions as F\n",
    "from pyspark.sql import types as T"
   ]
  },
  {
   "cell_type": "code",
   "execution_count": 2,
   "metadata": {},
   "outputs": [],
   "source": [
    "spark = SparkSession \\\n",
    "    .builder \\\n",
    "    .appName(\"Python Spark SQL basic example\") \\\n",
    "    .config(\"spark.some.config.option\", \"some-value\") \\\n",
    "    .getOrCreate()"
   ]
  },
  {
   "cell_type": "code",
   "execution_count": 13,
   "metadata": {},
   "outputs": [
    {
     "name": "stdout",
     "output_type": "stream",
     "text": [
      "+-------------+------------------+-----------+\n",
      "|     Category|                R2| Prediction|\n",
      "+-------------+------------------+-----------+\n",
      "|Biotechnology|0.8320372559570712|47244811352|\n",
      "|   E-Commerce|0.5349317056080214|41203208819|\n",
      "|     Software|0.6104061584695157|33946873367|\n",
      "|       Mobile|0.7083421147009049|31840251705|\n",
      "|  Health Care|0.8747611056595241|22274834277|\n",
      "+-------------+------------------+-----------+\n",
      "\n"
     ]
    }
   ],
   "source": [
    "SQLQUERY =  \"\"\"\n",
    "            SELECT Category,R2, Cast(Pediction as Decimal(12)) as Prediction\n",
    "            FROM summaryDF as Decimal            \n",
    "            ORDER BY Pediction Desc\n",
    "            LIMIT 5\n",
    "            \"\"\"\n",
    "#  ORDER BY YEAR DESC, TOTAL DESC\n",
    "\n",
    "sqlDF = spark.sql(SQLQUERY)\n",
    "sqlDF.show()"
   ]
  },
  {
   "cell_type": "code",
   "execution_count": null,
   "metadata": {},
   "outputs": [],
   "source": []
  }
 ],
 "metadata": {
  "kernelspec": {
   "display_name": "Python 3",
   "language": "python",
   "name": "python3"
  },
  "language_info": {
   "codemirror_mode": {
    "name": "ipython",
    "version": 3
   },
   "file_extension": ".py",
   "mimetype": "text/x-python",
   "name": "python",
   "nbconvert_exporter": "python",
   "pygments_lexer": "ipython3",
   "version": "3.6.9"
  }
 },
 "nbformat": 4,
 "nbformat_minor": 4
}
