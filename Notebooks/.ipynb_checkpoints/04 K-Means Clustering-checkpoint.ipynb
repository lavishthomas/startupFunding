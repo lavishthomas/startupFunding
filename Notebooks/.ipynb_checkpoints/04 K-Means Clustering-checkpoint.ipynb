{
 "cells": [
  {
   "cell_type": "code",
   "execution_count": 2,
   "metadata": {},
   "outputs": [
    {
     "name": "stdout",
     "output_type": "stream",
     "text": [
      "Silhouette with squared euclidean distance = 0.25000000000146066\n",
      "Cluster Centers: \n",
      "[9.05 9.05 9.05]\n",
      "[0.05 0.05 0.05]\n",
      "[0.2 0.2 0.2]\n",
      "[9.2 9.2 9.2]\n"
     ]
    }
   ],
   "source": [
    "from pyspark.ml.clustering import KMeans\n",
    "from pyspark.ml.evaluation import ClusteringEvaluator\n",
    "\n",
    "# Loads data.\n",
    "dataset = spark.read.format(\"libsvm\").load(\"/home/lavish/spark/data/mllib/sample_kmeans_data.txt\")\n",
    "\n",
    "# Trains a k-means model.\n",
    "kmeans = KMeans().setK(4).setSeed(1)\n",
    "model = kmeans.fit(dataset)\n",
    "\n",
    "# Make predictions\n",
    "predictions = model.transform(dataset)\n",
    "\n",
    "# Evaluate clustering by computing Silhouette score\n",
    "evaluator = ClusteringEvaluator()\n",
    "\n",
    "silhouette = evaluator.evaluate(predictions)\n",
    "print(\"Silhouette with squared euclidean distance = \" + str(silhouette))\n",
    "\n",
    "# Shows the result.\n",
    "centers = model.clusterCenters()\n",
    "print(\"Cluster Centers: \")\n",
    "for center in centers:\n",
    "    print(center)"
   ]
  },
  {
   "cell_type": "code",
   "execution_count": 3,
   "metadata": {},
   "outputs": [
    {
     "name": "stdout",
     "output_type": "stream",
     "text": [
      "+-----+--------------------+----------+\n",
      "|label|            features|prediction|\n",
      "+-----+--------------------+----------+\n",
      "|  0.0|           (3,[],[])|         1|\n",
      "|  1.0|(3,[0,1,2],[0.1,0...|         1|\n",
      "|  2.0|(3,[0,1,2],[0.2,0...|         2|\n",
      "|  3.0|(3,[0,1,2],[9.0,9...|         0|\n",
      "|  4.0|(3,[0,1,2],[9.1,9...|         0|\n",
      "|  5.0|(3,[0,1,2],[9.2,9...|         3|\n",
      "+-----+--------------------+----------+\n",
      "\n"
     ]
    }
   ],
   "source": [
    "predictions.show()"
   ]
  },
  {
   "cell_type": "code",
   "execution_count": 6,
   "metadata": {},
   "outputs": [
    {
     "name": "stdout",
     "output_type": "stream",
     "text": [
      "+-----+-------------------------+\n",
      "|label|features                 |\n",
      "+-----+-------------------------+\n",
      "|0.0  |(3,[],[])                |\n",
      "|1.0  |(3,[0,1,2],[0.1,0.1,0.1])|\n",
      "|2.0  |(3,[0,1,2],[0.2,0.2,0.2])|\n",
      "|3.0  |(3,[0,1,2],[9.0,9.0,9.0])|\n",
      "|4.0  |(3,[0,1,2],[9.1,9.1,9.1])|\n",
      "|5.0  |(3,[0,1,2],[9.2,9.2,9.2])|\n",
      "+-----+-------------------------+\n",
      "\n"
     ]
    }
   ],
   "source": [
    "dataset.show(50, truncate=False)"
   ]
  },
  {
   "cell_type": "code",
   "execution_count": null,
   "metadata": {},
   "outputs": [],
   "source": []
  }
 ],
 "metadata": {
  "kernelspec": {
   "display_name": "Python 3",
   "language": "python",
   "name": "python3"
  },
  "language_info": {
   "codemirror_mode": {
    "name": "ipython",
    "version": 3
   },
   "file_extension": ".py",
   "mimetype": "text/x-python",
   "name": "python",
   "nbconvert_exporter": "python",
   "pygments_lexer": "ipython3",
   "version": "3.6.9"
  }
 },
 "nbformat": 4,
 "nbformat_minor": 4
}
