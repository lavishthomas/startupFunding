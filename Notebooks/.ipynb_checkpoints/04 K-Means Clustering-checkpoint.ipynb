{
 "cells": [
  {
   "cell_type": "markdown",
   "metadata": {},
   "source": [
    "## Importing Libraries"
   ]
  },
  {
   "cell_type": "code",
   "execution_count": 4,
   "metadata": {},
   "outputs": [],
   "source": [
    "from pyspark.sql import SparkSession\n",
    "from pyspark.sql.functions import col, split, explode,substring, length, udf\n",
    "from pyspark.sql.types import *\n",
    "from pyspark.sql import Row\n",
    "from itertools import cycle\n",
    "from pyspark.ml.regression import LinearRegression\n",
    "import numpy as np\n",
    "\n",
    "import matplotlib.pyplot as plt\n",
    "%matplotlib inline\n",
    "\n",
    "from pyspark.sql import functions as F\n",
    "from pyspark.sql import types as T"
   ]
  },
  {
   "cell_type": "markdown",
   "metadata": {},
   "source": [
    "## Creating Spark session"
   ]
  },
  {
   "cell_type": "code",
   "execution_count": 5,
   "metadata": {},
   "outputs": [],
   "source": [
    "spark = SparkSession \\\n",
    "    .builder \\\n",
    "    .appName(\"Python Spark SQL basic example\") \\\n",
    "    .config(\"spark.some.config.option\", \"some-value\") \\\n",
    "    .getOrCreate()"
   ]
  },
  {
   "cell_type": "markdown",
   "metadata": {},
   "source": [
    "## Loading data from the previous module"
   ]
  },
  {
   "cell_type": "code",
   "execution_count": 6,
   "metadata": {},
   "outputs": [
    {
     "name": "stdout",
     "output_type": "stream",
     "text": [
      "+----------------------------------+--------------------+----------------------+------------------+-----------+\n",
      "|CATEGORY                          |Slope               |Intercept             |R2                |Prediction |\n",
      "+----------------------------------+--------------------+----------------------+------------------+-----------+\n",
      "|Personal Finance                  |3.095318445488712E8 |-6.208465795394869E11 |0.5257188832329653|4407746449 |\n",
      "|Reviews and Recommendations       |9.384350510535592E7 |-1.8807660100807297E11|0.6748252913534014|1487279305 |\n",
      "|Health Care                       |1.0898642181609554E9|-2.1792508864081628E12|0.8747611056595744|22274834277|\n",
      "|Application Performance Monitoring|1.4638639037091857E8|-2.9369013932035425E11|0.5668998218851391|2010369229 |\n",
      "|Credit Cards                      |6.334192286089984E7 |-1.2700968121996451E11|0.5027780036421108|941002959  |\n",
      "+----------------------------------+--------------------+----------------------+------------------+-----------+\n",
      "only showing top 5 rows\n",
      "\n"
     ]
    }
   ],
   "source": [
    "SQLQUERY =  \"\"\"\n",
    "            SELECT CATEGORY, Slope\n",
    "            , Intercept\n",
    "            , R2\n",
    "            , Cast(Prediction as Decimal(12)) as Prediction\n",
    "            FROM summaryDF \n",
    "            \"\"\"\n",
    "#  ORDER BY YEAR DESC, TOTAL DESC \n",
    "# Category,R2, Cast(Prediction as Decimal(12)) as Prediction\n",
    "#ORDER BY Pediction Desc\n",
    "\n",
    "regressionDF = spark.sql(SQLQUERY)\n",
    "regressionDF.show(5,truncate = False)"
   ]
  },
  {
   "cell_type": "markdown",
   "metadata": {},
   "source": [
    "## Vectorization of the features"
   ]
  },
  {
   "cell_type": "code",
   "execution_count": 7,
   "metadata": {},
   "outputs": [
    {
     "name": "stdout",
     "output_type": "stream",
     "text": [
      "+--------------------+--------------------+------------------+-----------+--------------------+\n",
      "|            CATEGORY|               Slope|                R2| Projection|            features|\n",
      "+--------------------+--------------------+------------------+-----------+--------------------+\n",
      "|    Personal Finance| 3.095318445488712E8|0.5257188832329653| 4407746449|[0.5257188832329653]|\n",
      "|Reviews and Recom...| 9.384350510535592E7|0.6748252913534014| 1487279305|[0.6748252913534014]|\n",
      "|         Health Care|1.0898642181609554E9|0.8747611056595744|22274834277|[0.8747611056595744]|\n",
      "|Application Perfo...|1.4638639037091857E8|0.5668998218851391| 2010369229|[0.5668998218851391]|\n",
      "|        Credit Cards| 6.334192286089984E7|0.5027780036421108|  941002959|[0.5027780036421108]|\n",
      "+--------------------+--------------------+------------------+-----------+--------------------+\n",
      "only showing top 5 rows\n",
      "\n"
     ]
    }
   ],
   "source": [
    "from pyspark.ml.feature import VectorAssembler\n",
    "from pyspark.mllib.util import MLUtils\n",
    "from pyspark.ml.feature import Normalizer\n",
    "\n",
    "vectorAssembler = VectorAssembler(inputCols = [ 'R2' ], outputCol = 'features')\n",
    "featureDF = vectorAssembler.transform(regressionDF).select('CATEGORY','Slope','R2', col('Prediction').alias('Projection'), 'features')\n",
    "\n",
    "featureDF.show(5)\n"
   ]
  },
  {
   "cell_type": "markdown",
   "metadata": {},
   "source": [
    "## KMeans Model training"
   ]
  },
  {
   "cell_type": "code",
   "execution_count": 8,
   "metadata": {},
   "outputs": [],
   "source": [
    "from pyspark.ml.clustering import KMeans\n",
    "from pyspark.ml.evaluation import ClusteringEvaluator\n",
    "\n",
    "# Trains a k-means model.\n",
    "kmeans = KMeans().setK(3).setSeed(1)\n",
    "model = kmeans.fit(featureDF)\n",
    "\n",
    "# Make predictions\n",
    "predictions = model.transform(featureDF)\n"
   ]
  },
  {
   "cell_type": "markdown",
   "metadata": {},
   "source": [
    "## Clustering effiecny using Silhouette Score"
   ]
  },
  {
   "cell_type": "code",
   "execution_count": 9,
   "metadata": {},
   "outputs": [
    {
     "name": "stdout",
     "output_type": "stream",
     "text": [
      "Silhouette with squared euclidean distance = 0.7790661080316511\n"
     ]
    }
   ],
   "source": [
    "# Evaluate clustering by computing Silhouette score\n",
    "evaluator = ClusteringEvaluator()\n",
    "\n",
    "silhouette = evaluator.evaluate(predictions)\n",
    "print(\"Silhouette with squared euclidean distance = \" + str(silhouette))\n"
   ]
  },
  {
   "cell_type": "markdown",
   "metadata": {},
   "source": [
    "## Centorids of the new stereotype"
   ]
  },
  {
   "cell_type": "code",
   "execution_count": 11,
   "metadata": {},
   "outputs": [
    {
     "name": "stdout",
     "output_type": "stream",
     "text": [
      "0.5456033326212057\n",
      "0.6467024333720977\n",
      "0.7785377496273099\n"
     ]
    }
   ],
   "source": [
    "centers = model.clusterCenters()\n",
    "for center in centers:\n",
    "    print(str(float(center[0]))) \n",
    "    #print(str(float(center[1]))) "
   ]
  },
  {
   "cell_type": "markdown",
   "metadata": {},
   "source": [
    "## Dataset with clustering information"
   ]
  },
  {
   "cell_type": "code",
   "execution_count": 12,
   "metadata": {},
   "outputs": [
    {
     "name": "stdout",
     "output_type": "stream",
     "text": [
      "+--------------------+--------------------+------------------+-----------+--------------------+----------+\n",
      "|            CATEGORY|               Slope|                R2| Projection|            features|prediction|\n",
      "+--------------------+--------------------+------------------+-----------+--------------------+----------+\n",
      "|    Personal Finance| 3.095318445488712E8|0.5257188832329653| 4407746449|[0.5257188832329653]|         0|\n",
      "|Reviews and Recom...| 9.384350510535592E7|0.6748252913534014| 1487279305|[0.6748252913534014]|         1|\n",
      "|         Health Care|1.0898642181609554E9|0.8747611056595744|22274834277|[0.8747611056595744]|         2|\n",
      "|Application Perfo...|1.4638639037091857E8|0.5668998218851391| 2010369229|[0.5668998218851391]|         0|\n",
      "|        Credit Cards| 6.334192286089984E7|0.5027780036421108|  941002959|[0.5027780036421108]|         0|\n",
      "+--------------------+--------------------+------------------+-----------+--------------------+----------+\n",
      "only showing top 5 rows\n",
      "\n"
     ]
    }
   ],
   "source": [
    "predictions.show(5)"
   ]
  },
  {
   "cell_type": "markdown",
   "metadata": {},
   "source": [
    "## Converion to array for matplotlib"
   ]
  },
  {
   "cell_type": "code",
   "execution_count": 13,
   "metadata": {},
   "outputs": [],
   "source": [
    "slope = [row.Slope for row in predictions.collect()]\n",
    "projected = [row.R2 for row in predictions.collect()]\n",
    "color = [row.prediction for row in predictions.collect()]"
   ]
  },
  {
   "cell_type": "markdown",
   "metadata": {},
   "source": [
    "## Clustered Data Representation"
   ]
  },
  {
   "cell_type": "code",
   "execution_count": 14,
   "metadata": {},
   "outputs": [
    {
     "data": {
      "image/png": "[encoded data removed]",
      "text/plain": [
       "<Figure size 576x432 with 1 Axes>"
      ]
     },
     "metadata": {
      "needs_background": "light"
     },
     "output_type": "display_data"
    }
   ],
   "source": [
    "plt.figure(figsize=(8,6))\n",
    "plt.scatter(slope, projected, c=color)\n",
    "\n",
    "plt.xlabel('Investement -->')\n",
    "plt.ylabel('R2 score -->')\n",
    "plt.savefig('KMeansCluster.png' , pi=300, quality =95 )\n",
    "plt.show()"
   ]
  },
  {
   "cell_type": "markdown",
   "metadata": {},
   "source": [
    "## Model Details"
   ]
  },
  {
   "cell_type": "code",
   "execution_count": 15,
   "metadata": {},
   "outputs": [
    {
     "data": {
      "text/plain": [
       "KMeansModel: uid=KMeans_35f1cec45704, k=3, distanceMeasure=euclidean, numFeatures=1"
      ]
     },
     "metadata": {},
     "output_type": "display_data"
    },
    {
     "data": {
      "text/plain": [
       "DataFrame[CATEGORY: string, Slope: double, R2: double, Projection: decimal(12,0), features: vector, prediction: int]"
      ]
     },
     "metadata": {},
     "output_type": "display_data"
    }
   ],
   "source": [
    "display(model,predictions)\n"
   ]
  },
  {
   "cell_type": "markdown",
   "metadata": {},
   "source": [
    "## Grouping the cluster data to find the distribution"
   ]
  },
  {
   "cell_type": "code",
   "execution_count": 16,
   "metadata": {},
   "outputs": [],
   "source": [
    "clusterData = predictions.groupBy('prediction').sum('projection').select('prediction',col(\"sum(projection)\").alias(\"total\"))"
   ]
  },
  {
   "cell_type": "code",
   "execution_count": 17,
   "metadata": {},
   "outputs": [
    {
     "name": "stdout",
     "output_type": "stream",
     "text": [
      "+----------+------------+\n",
      "|prediction|       total|\n",
      "+----------+------------+\n",
      "|         1|257535294020|\n",
      "|         2| 91792679842|\n",
      "|         0|160527453653|\n",
      "+----------+------------+\n",
      "\n"
     ]
    }
   ],
   "source": [
    "clusterData.show()"
   ]
  },
  {
   "cell_type": "markdown",
   "metadata": {},
   "source": [
    "## Assigning the cluster names based on the data analysis"
   ]
  },
  {
   "cell_type": "code",
   "execution_count": 18,
   "metadata": {},
   "outputs": [],
   "source": [
    "clusters = ['Fluctuating','Moderate risk', 'Stable']\n",
    "\n",
    "clusterNames = [clusters[row.prediction] for row in clusterData.collect()]\n",
    "clusterShare = [row.total for row in clusterData.collect()]"
   ]
  },
  {
   "cell_type": "code",
   "execution_count": 19,
   "metadata": {},
   "outputs": [
    {
     "data": {
      "text/plain": [
       "[Decimal('257535294020'), Decimal('91792679842'), Decimal('160527453653')]"
      ]
     },
     "execution_count": 19,
     "metadata": {},
     "output_type": "execute_result"
    }
   ],
   "source": [
    "clusterShare"
   ]
  },
  {
   "cell_type": "markdown",
   "metadata": {},
   "source": [
    "## Distribution chart of the new stereotypes"
   ]
  },
  {
   "cell_type": "code",
   "execution_count": 20,
   "metadata": {},
   "outputs": [
    {
     "data": {
      "image/png": "[encoded data removed]",
      "text/plain": [
       "<Figure size 432x288 with 1 Axes>"
      ]
     },
     "metadata": {},
     "output_type": "display_data"
    }
   ],
   "source": [
    "fig = plt.figure()\n",
    "\n",
    "ax = fig.add_axes([0,0,1,1])\n",
    "ax.axis('equal')\n",
    "langs = clusterNames\n",
    "students = clusterShare\n",
    "ax.pie(students, labels = langs,autopct='%1.2f%%')\n",
    "\n",
    "plt.savefig('ClusterShare.png' , pi=300, quality =95 )\n",
    "plt.show()"
   ]
  }
 ],
 "metadata": {
  "kernelspec": {
   "display_name": "Python 3",
   "language": "python",
   "name": "python3"
  }
 },
 "nbformat": 4,
 "nbformat_minor": 4
}
