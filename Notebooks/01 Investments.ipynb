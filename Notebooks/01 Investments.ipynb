{
 "cells": [
  {
   "cell_type": "markdown",
   "metadata": {},
   "source": [
    "## Library Imports"
   ]
  },
  {
   "cell_type": "code",
   "execution_count": 1,
   "metadata": {},
   "outputs": [],
   "source": [
    "from pyspark.sql import SparkSession\n",
    "from pyspark.sql.functions import col, split, explode,substring, length\n",
    "from pyspark.sql.types import DecimalType, StringType, DoubleType\n",
    "from itertools import cycle\n",
    "import numpy as np\n",
    "import matplotlib.pyplot as plt\n",
    "%matplotlib inline"
   ]
  },
  {
   "cell_type": "markdown",
   "metadata": {},
   "source": [
    "## Session starting"
   ]
  },
  {
   "cell_type": "code",
   "execution_count": 2,
   "metadata": {},
   "outputs": [],
   "source": [
    "spark = SparkSession \\\n",
    "    .builder \\\n",
    "    .appName(\"Python Spark SQL basic example\") \\\n",
    "    .config(\"spark.some.config.option\", \"some-value\") \\\n",
    "    .getOrCreate()"
   ]
  },
  {
   "cell_type": "markdown",
   "metadata": {},
   "source": [
    "## Loading Data"
   ]
  },
  {
   "cell_type": "code",
   "execution_count": 3,
   "metadata": {},
   "outputs": [],
   "source": [
    "# spark is an custom SparkSession based on some config to work with Jupyter notebooks\n",
    "iv = spark.read.csv(\"hdfs://localhost:9000/user/lavish/data/investments.csv\"\n",
    "                , header='true'\n",
    "                , inferSchema='true')"
   ]
  },
  {
   "cell_type": "markdown",
   "metadata": {},
   "source": [
    "## Defining the analysis Scope"
   ]
  },
  {
   "cell_type": "code",
   "execution_count": 4,
   "metadata": {},
   "outputs": [],
   "source": [
    "startYear=1995\n",
    "endYear=2015"
   ]
  },
  {
   "cell_type": "markdown",
   "metadata": {},
   "source": [
    "## Checking the schema details"
   ]
  },
  {
   "cell_type": "code",
   "execution_count": 5,
   "metadata": {},
   "outputs": [
    {
     "data": {
      "text/plain": [
       "['company_permalink',\n",
       " 'company_name',\n",
       " 'company_category_list',\n",
       " 'company_country_code',\n",
       " 'company_state_code',\n",
       " 'company_region',\n",
       " 'company_city',\n",
       " 'investor_permalink',\n",
       " 'investor_name',\n",
       " 'investor_country_code',\n",
       " 'investor_state_code',\n",
       " 'investor_region',\n",
       " 'investor_city',\n",
       " 'funding_round_permalink',\n",
       " 'funding_round_type',\n",
       " 'funding_round_code',\n",
       " 'funded_at',\n",
       " 'raised_amount_usd']"
      ]
     },
     "execution_count": 5,
     "metadata": {},
     "output_type": "execute_result"
    }
   ],
   "source": [
    "iv.schema.names"
   ]
  },
  {
   "cell_type": "code",
   "execution_count": 6,
   "metadata": {},
   "outputs": [
    {
     "name": "stdout",
     "output_type": "stream",
     "text": [
      "+-----------------+----------+---------------------------------------------------------------------------------------------------------------------------+\n",
      "|raised_amount_usd|funded_at |company_category_list                                                                                                      |\n",
      "+-----------------+----------+---------------------------------------------------------------------------------------------------------------------------+\n",
      "|321650.0         |20-06-2013|Curated Web|Education|Parenting|Publishing                                                                                 |\n",
      "|9000000.0        |13-11-2006|Cloud Computing|Communications Hardware|Hardware|Networking|Optimization|Security|SEO|Technology|Virtualization|Web Hosting|\n",
      "|8000000.0        |06-12-2002|Application Platforms|Communications Infrastructure|Storage                                                                |\n",
      "|1.2E7            |04-01-2012|Enterprise Software|Security                                                                                               |\n",
      "|5.53E7           |20-05-2003|Biotechnology|Health Care                                                                                                  |\n",
      "+-----------------+----------+---------------------------------------------------------------------------------------------------------------------------+\n",
      "only showing top 5 rows\n",
      "\n"
     ]
    }
   ],
   "source": [
    "filteredIV = iv.filter(iv.raised_amount_usd.isNotNull()).dropDuplicates()\n",
    "filteredIV.select('raised_amount_usd', 'funded_at','company_category_list').filter(filteredIV.company_category_list.contains('|')).show(5, truncate = False)"
   ]
  },
  {
   "cell_type": "code",
   "execution_count": 7,
   "metadata": {},
   "outputs": [
    {
     "name": "stdout",
     "output_type": "stream",
     "text": [
      "+-----------------+----+--------------------------------------------------------------------------------------------------------------------------------------+\n",
      "|raised_amount_usd|year|categoryArr                                                                                                                           |\n",
      "+-----------------+----+--------------------------------------------------------------------------------------------------------------------------------------+\n",
      "|321650.0         |2013|[Curated Web, Education, Parenting, Publishing]                                                                                       |\n",
      "|1019139.0        |2013|[Web Hosting]                                                                                                                         |\n",
      "|3134880.0        |2012|[Finance]                                                                                                                             |\n",
      "|9000000.0        |2006|[Cloud Computing, Communications Hardware, Hardware, Networking, Optimization, Security, SEO, Technology, Virtualization, Web Hosting]|\n",
      "|8000000.0        |2002|[Application Platforms, Communications Infrastructure, Storage]                                                                       |\n",
      "+-----------------+----+--------------------------------------------------------------------------------------------------------------------------------------+\n",
      "only showing top 5 rows\n",
      "\n"
     ]
    }
   ],
   "source": [
    "splittedCategoryIV = filteredIV.select('raised_amount_usd',  substring('funded_at',-4,4).cast('int').alias('year')\n",
    "                       , split(col(\"company_category_list\")\n",
    "                       , \"[|]s*\").alias(\"categoryArr\")).filter(col('year') >= startYear)\n",
    "splittedCategoryIV.show(5, truncate = False)"
   ]
  },
  {
   "cell_type": "code",
   "execution_count": 8,
   "metadata": {},
   "outputs": [],
   "source": [
    "explodedIV=splittedCategoryIV.select('raised_amount_usd','year', explode('categoryArr').alias('category'))"
   ]
  },
  {
   "cell_type": "code",
   "execution_count": 9,
   "metadata": {},
   "outputs": [
    {
     "name": "stdout",
     "output_type": "stream",
     "text": [
      "+-----------------+----+-----------+\n",
      "|raised_amount_usd|year|   category|\n",
      "+-----------------+----+-----------+\n",
      "|         321650.0|2013|Curated Web|\n",
      "|         321650.0|2013|  Education|\n",
      "|         321650.0|2013|  Parenting|\n",
      "|         321650.0|2013| Publishing|\n",
      "|        1019139.0|2013|Web Hosting|\n",
      "+-----------------+----+-----------+\n",
      "only showing top 5 rows\n",
      "\n"
     ]
    }
   ],
   "source": [
    "explodedIV.show(5)"
   ]
  },
  {
   "cell_type": "code",
   "execution_count": 10,
   "metadata": {},
   "outputs": [],
   "source": [
    "explodedIV.write.mode(\"overwrite\").saveAsTable(\"investments\")"
   ]
  },
  {
   "cell_type": "code",
   "execution_count": 11,
   "metadata": {},
   "outputs": [
    {
     "name": "stdout",
     "output_type": "stream",
     "text": [
      "+-----------------+----+---------------+\n",
      "|raised_amount_usd|year|       category|\n",
      "+-----------------+----+---------------+\n",
      "|            1.5E7|2014|     E-Commerce|\n",
      "|            1.4E7|2015|         Drones|\n",
      "|            1.4E7|2015|  Manufacturing|\n",
      "|        1870000.0|2011|             3D|\n",
      "|        1870000.0|2011|Computer Vision|\n",
      "+-----------------+----+---------------+\n",
      "only showing top 5 rows\n",
      "\n"
     ]
    }
   ],
   "source": [
    "sqlDF = spark.sql(\"SELECT * FROM investments\")\n",
    "sqlDF.show(5)"
   ]
  },
  {
   "cell_type": "markdown",
   "metadata": {},
   "source": [
    "### Year Wise"
   ]
  },
  {
   "cell_type": "code",
   "execution_count": 12,
   "metadata": {},
   "outputs": [],
   "source": [
    "SQLQUERY =  \"\"\"\n",
    "            SELECT CATEGORY, \n",
    "            CAST(YEAR AS INT), \n",
    "            SUM(RAISED_AMOUNT_USD) AS TOTAL, \n",
    "            CAST(SUM(RAISED_AMOUNT_USD) AS DECIMAL(30)) AS TOTAL_DEC \n",
    "            FROM INVESTMENTS \n",
    "            GROUP BY CATEGORY, YEAR\n",
    "            ORDER BY CATEGORY,YEAR\n",
    "            \"\"\"\n",
    "#  ORDER BY YEAR DESC, TOTAL DESC"
   ]
  },
  {
   "cell_type": "code",
   "execution_count": 13,
   "metadata": {},
   "outputs": [
    {
     "name": "stdout",
     "output_type": "stream",
     "text": [
      "+--------+----+------------+---------+\n",
      "|CATEGORY|YEAR|       TOTAL|TOTAL_DEC|\n",
      "+--------+----+------------+---------+\n",
      "|      3D|2003|      3.64E8|364000000|\n",
      "|      3D|2005|   1129590.0|  1129590|\n",
      "|      3D|2006|   4.20152E7| 42015200|\n",
      "|      3D|2007| 1.0037656E8|100376560|\n",
      "|      3D|2008|1.67802633E8|167802633|\n",
      "+--------+----+------------+---------+\n",
      "only showing top 5 rows\n",
      "\n"
     ]
    }
   ],
   "source": [
    "sqlDF = spark.sql(SQLQUERY)\n",
    "sqlDF.show(5)"
   ]
  },
  {
   "cell_type": "markdown",
   "metadata": {},
   "source": [
    "### Total"
   ]
  },
  {
   "cell_type": "code",
   "execution_count": 14,
   "metadata": {},
   "outputs": [],
   "source": [
    "SQLQUERY =  \"\"\"\n",
    "            SELECT CATEGORY, SUM(RAISED_AMOUNT_USD) AS TOTAL, \n",
    "            CAST(SUM(RAISED_AMOUNT_USD) AS DECIMAL(30)) AS TOTAL_DEC \n",
    "            FROM INVESTMENTS GROUP \n",
    "            BY CATEGORY\n",
    "            ORDER BY TOTAL DESC\n",
    "            LIMIT 5\n",
    "            \"\"\"\n"
   ]
  },
  {
   "cell_type": "code",
   "execution_count": 15,
   "metadata": {
    "scrolled": true
   },
   "outputs": [
    {
     "name": "stdout",
     "output_type": "stream",
     "text": [
      "+-------------------+---------------------+------------+\n",
      "|CATEGORY           |TOTAL                |TOTAL_DEC   |\n",
      "+-------------------+---------------------+------------+\n",
      "|Biotechnology      |3.0047395208808673E11|300473952088|\n",
      "|Software           |2.5418940718297742E11|254189407183|\n",
      "|E-Commerce         |2.0122358863163824E11|201223588632|\n",
      "|Mobile             |1.8763575923026706E11|187635759230|\n",
      "|Enterprise Software|1.4492127042893082E11|144921270429|\n",
      "+-------------------+---------------------+------------+\n",
      "\n"
     ]
    }
   ],
   "source": [
    "sqlDFtop = spark.sql(SQLQUERY)\n",
    "sqlDFtop.show(5, truncate = False)\n",
    "categories = sqlDFtop.select('CATEGORY')"
   ]
  },
  {
   "cell_type": "code",
   "execution_count": 16,
   "metadata": {},
   "outputs": [
    {
     "data": {
      "text/plain": [
       "['Biotechnology', 'Software', 'E-Commerce', 'Mobile', 'Enterprise Software']"
      ]
     },
     "execution_count": 16,
     "metadata": {},
     "output_type": "execute_result"
    }
   ],
   "source": [
    "topCategories = [row.CATEGORY for row in categories.collect()]\n",
    "topCategories"
   ]
  },
  {
   "cell_type": "code",
   "execution_count": 17,
   "metadata": {},
   "outputs": [],
   "source": [
    "topCategoriesDF = sqlDF.filter(col('CATEGORY').isin(topCategories))"
   ]
  },
  {
   "cell_type": "code",
   "execution_count": 18,
   "metadata": {},
   "outputs": [],
   "source": [
    "dict = {}\n",
    "\n",
    "for row in topCategoriesDF.collect():\n",
    "    \n",
    "    if (row.CATEGORY in dict ):\n",
    "        dict[row.CATEGORY]['Y'].append(row.YEAR)\n",
    "        dict[row.CATEGORY]['T'].append(row.TOTAL_DEC/1000000)\n",
    "    else:\n",
    "        dict[row.CATEGORY] = { 'Y': [row.YEAR]  , 'T':[row.TOTAL_DEC/1000000]}\n",
    "   "
   ]
  },
  {
   "cell_type": "code",
   "execution_count": 19,
   "metadata": {},
   "outputs": [
    {
     "data": {
      "text/plain": [
       "{'Biotechnology': {'Y': [1998,\n",
       "   1999,\n",
       "   2000,\n",
       "   2001,\n",
       "   2002,\n",
       "   2003,\n",
       "   2004,\n",
       "   2005,\n",
       "   2006,\n",
       "   2007,\n",
       "   2008,\n",
       "   2009,\n",
       "   2010,\n",
       "   2011,\n",
       "   2012,\n",
       "   2013,\n",
       "   2014,\n",
       "   2015],\n",
       "  'T': [Decimal('4.8'),\n",
       "   Decimal('45.40874'),\n",
       "   Decimal('689.871822'),\n",
       "   Decimal('1335.255496'),\n",
       "   Decimal('3730.721055'),\n",
       "   Decimal('8198.870182'),\n",
       "   Decimal('16082.322549'),\n",
       "   Decimal('11634.854335'),\n",
       "   Decimal('15925.340477'),\n",
       "   Decimal('30340.54939'),\n",
       "   Decimal('16095.351971'),\n",
       "   Decimal('22825.073128'),\n",
       "   Decimal('23260.647687'),\n",
       "   Decimal('20653.634246'),\n",
       "   Decimal('22034.623733'),\n",
       "   Decimal('25633.097745'),\n",
       "   Decimal('33711.719252'),\n",
       "   Decimal('48271.81028')]},\n",
       " 'E-Commerce': {'Y': [1995,\n",
       "   1997,\n",
       "   1999,\n",
       "   2000,\n",
       "   2001,\n",
       "   2002,\n",
       "   2003,\n",
       "   2004,\n",
       "   2005,\n",
       "   2006,\n",
       "   2007,\n",
       "   2008,\n",
       "   2009,\n",
       "   2010,\n",
       "   2011,\n",
       "   2012,\n",
       "   2013,\n",
       "   2014,\n",
       "   2015],\n",
       "  'T': [Decimal('8'),\n",
       "   Decimal('16.6'),\n",
       "   Decimal('2162.305348'),\n",
       "   Decimal('3003.081142'),\n",
       "   Decimal('1474.957242'),\n",
       "   Decimal('99.5'),\n",
       "   Decimal('442.872572'),\n",
       "   Decimal('1304.425'),\n",
       "   Decimal('1723.105689'),\n",
       "   Decimal('1597.639552'),\n",
       "   Decimal('2424.233622'),\n",
       "   Decimal('2800.013701'),\n",
       "   Decimal('2186.406083'),\n",
       "   Decimal('5783.545319'),\n",
       "   Decimal('23235.418551'),\n",
       "   Decimal('21858.621734'),\n",
       "   Decimal('21082.3064'),\n",
       "   Decimal('50796.381386'),\n",
       "   Decimal('59224.175291')]},\n",
       " 'Enterprise Software': {'Y': [1997,\n",
       "   1998,\n",
       "   1999,\n",
       "   2000,\n",
       "   2001,\n",
       "   2002,\n",
       "   2003,\n",
       "   2004,\n",
       "   2005,\n",
       "   2006,\n",
       "   2007,\n",
       "   2008,\n",
       "   2009,\n",
       "   2010,\n",
       "   2011,\n",
       "   2012,\n",
       "   2013,\n",
       "   2014,\n",
       "   2015],\n",
       "  'T': [Decimal('28.5'),\n",
       "   Decimal('30.9'),\n",
       "   Decimal('138.91'),\n",
       "   Decimal('438.669863'),\n",
       "   Decimal('766.300175'),\n",
       "   Decimal('1228.65'),\n",
       "   Decimal('1325.094048'),\n",
       "   Decimal('2367.914826'),\n",
       "   Decimal('2877.603853'),\n",
       "   Decimal('3661.941502'),\n",
       "   Decimal('4866.887543'),\n",
       "   Decimal('4962.432521'),\n",
       "   Decimal('3878.453369'),\n",
       "   Decimal('7178.596332'),\n",
       "   Decimal('10158.784293'),\n",
       "   Decimal('14065.804024'),\n",
       "   Decimal('18091.936525'),\n",
       "   Decimal('31639.370183'),\n",
       "   Decimal('37214.521372')]},\n",
       " 'Mobile': {'Y': [1997,\n",
       "   1998,\n",
       "   1999,\n",
       "   2000,\n",
       "   2001,\n",
       "   2002,\n",
       "   2003,\n",
       "   2004,\n",
       "   2005,\n",
       "   2006,\n",
       "   2007,\n",
       "   2008,\n",
       "   2009,\n",
       "   2010,\n",
       "   2011,\n",
       "   2012,\n",
       "   2013,\n",
       "   2014,\n",
       "   2015],\n",
       "  'T': [Decimal('33'),\n",
       "   Decimal('79.5'),\n",
       "   Decimal('412.834231'),\n",
       "   Decimal('837.448847'),\n",
       "   Decimal('817.408705'),\n",
       "   Decimal('952.105318'),\n",
       "   Decimal('1499.72'),\n",
       "   Decimal('3659.769189'),\n",
       "   Decimal('6074.045598'),\n",
       "   Decimal('8474.637801'),\n",
       "   Decimal('11046.289081'),\n",
       "   Decimal('25117.709057'),\n",
       "   Decimal('17861.9456'),\n",
       "   Decimal('5861.969793'),\n",
       "   Decimal('11636.483077'),\n",
       "   Decimal('12755.015528'),\n",
       "   Decimal('17030.578288'),\n",
       "   Decimal('33166.106463'),\n",
       "   Decimal('30319.192655')]},\n",
       " 'Software': {'Y': [1995,\n",
       "   1997,\n",
       "   1998,\n",
       "   1999,\n",
       "   2000,\n",
       "   2001,\n",
       "   2002,\n",
       "   2003,\n",
       "   2004,\n",
       "   2005,\n",
       "   2006,\n",
       "   2007,\n",
       "   2008,\n",
       "   2009,\n",
       "   2010,\n",
       "   2011,\n",
       "   2012,\n",
       "   2013,\n",
       "   2014,\n",
       "   2015],\n",
       "  'T': [Decimal('8'),\n",
       "   Decimal('43'),\n",
       "   Decimal('7.5'),\n",
       "   Decimal('1852.326056'),\n",
       "   Decimal('5447.989495'),\n",
       "   Decimal('6566.721385'),\n",
       "   Decimal('4233.261724'),\n",
       "   Decimal('5226.750464'),\n",
       "   Decimal('6765.924247'),\n",
       "   Decimal('12182.41552'),\n",
       "   Decimal('13386.697399'),\n",
       "   Decimal('15989.260515'),\n",
       "   Decimal('12662.348504'),\n",
       "   Decimal('7921.416648'),\n",
       "   Decimal('9621.212635'),\n",
       "   Decimal('15148.255392'),\n",
       "   Decimal('15998.191092'),\n",
       "   Decimal('25311.873888'),\n",
       "   Decimal('43872.538281'),\n",
       "   Decimal('51943.723937')]}}"
      ]
     },
     "execution_count": 19,
     "metadata": {},
     "output_type": "execute_result"
    }
   ],
   "source": [
    "dict"
   ]
  },
  {
   "cell_type": "code",
   "execution_count": 20,
   "metadata": {},
   "outputs": [
    {
     "data": {
      "image/png": "[encoded data removed]",
      "text/plain": [
       "<Figure size 1440x720 with 1 Axes>"
      ]
     },
     "metadata": {
      "needs_background": "light"
     },
     "output_type": "display_data"
    }
   ],
   "source": [
    "color=cycle('rgbykcm')\n",
    "plt.figure(figsize=(20,10))\n",
    "\n",
    "for cat,c in zip(dict,color):\n",
    "    #print (cat, c)\n",
    "    plt.plot(dict[cat]['Y'], dict[cat]['T'], c = c, label = cat)\n",
    "\n",
    "plt.ylabel('Investment in Millions -->')  \n",
    "plt.xlabel('Years -->')  \n",
    "plt.legend()\n",
    "plt.xticks(np.arange(1995, 2015, 1.0))\n",
    "plt.savefig('topCategories.png' , pi=300, quality =95 )\n",
    "plt.show()"
   ]
  },
  {
   "cell_type": "code",
   "execution_count": null,
   "metadata": {},
   "outputs": [],
   "source": []
  },
  {
   "cell_type": "code",
   "execution_count": null,
   "metadata": {},
   "outputs": [],
   "source": []
  }
 ],
 "metadata": {
  "kernelspec": {
   "display_name": "Python 3",
   "language": "python",
   "name": "python3"
  },
  "language_info": {
   "codemirror_mode": {
    "name": "ipython",
    "version": 3
   },
   "file_extension": ".py",
   "mimetype": "text/x-python",
   "name": "python",
   "nbconvert_exporter": "python",
   "pygments_lexer": "ipython3",
   "version": "3.6.9"
  }
 },
 "nbformat": 4,
 "nbformat_minor": 4
}
