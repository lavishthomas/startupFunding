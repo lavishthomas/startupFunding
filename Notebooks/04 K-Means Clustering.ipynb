{
 "cells": [
  {
   "cell_type": "code",
   "execution_count": 63,
   "metadata": {},
   "outputs": [],
   "source": [
    "from pyspark.sql import SparkSession\n",
    "from pyspark.sql.functions import col, split, explode,substring, length, udf\n",
    "from pyspark.sql.types import *\n",
    "from pyspark.sql import Row\n",
    "from itertools import cycle\n",
    "from pyspark.ml.regression import LinearRegression\n",
    "import numpy as np\n",
    "\n",
    "import matplotlib.pyplot as plt\n",
    "%matplotlib inline\n",
    "\n",
    "from pyspark.sql import functions as F\n",
    "from pyspark.sql import types as T"
   ]
  },
  {
   "cell_type": "code",
   "execution_count": 64,
   "metadata": {},
   "outputs": [],
   "source": [
    "spark = SparkSession \\\n",
    "    .builder \\\n",
    "    .appName(\"Python Spark SQL basic example\") \\\n",
    "    .config(\"spark.some.config.option\", \"some-value\") \\\n",
    "    .getOrCreate()"
   ]
  },
  {
   "cell_type": "code",
   "execution_count": 65,
   "metadata": {},
   "outputs": [
    {
     "name": "stdout",
     "output_type": "stream",
     "text": [
      "+----------------------------------+--------------------+----------------------+------------------+-----------+\n",
      "|CATEGORY                          |Slope               |Intercept             |R2                |Prediction |\n",
      "+----------------------------------+--------------------+----------------------+------------------+-----------+\n",
      "|Personal Finance                  |3.095318445488712E8 |-6.208465795394869E11 |0.5257188832329653|4407746449 |\n",
      "|Reviews and Recommendations       |9.384350510535592E7 |-1.8807660100807297E11|0.6748252913534014|1487279305 |\n",
      "|Health Care                       |1.0898642181609554E9|-2.1792508864081628E12|0.8747611056595744|22274834277|\n",
      "|Application Performance Monitoring|1.4638639037091857E8|-2.9369013932035425E11|0.5668998218851391|2010369229 |\n",
      "|Credit Cards                      |6.334192286089984E7 |-1.2700968121996451E11|0.5027780036421108|941002959  |\n",
      "+----------------------------------+--------------------+----------------------+------------------+-----------+\n",
      "only showing top 5 rows\n",
      "\n"
     ]
    }
   ],
   "source": [
    "SQLQUERY =  \"\"\"\n",
    "            SELECT CATEGORY, Slope\n",
    "            , Intercept\n",
    "            , R2\n",
    "            , Cast(Prediction as Decimal(12)) as Prediction\n",
    "            FROM summaryDF \n",
    "            \"\"\"\n",
    "#  ORDER BY YEAR DESC, TOTAL DESC \n",
    "# Category,R2, Cast(Prediction as Decimal(12)) as Prediction\n",
    "#ORDER BY Pediction Desc\n",
    "\n",
    "regressionDF = spark.sql(SQLQUERY)\n",
    "regressionDF.show(5,truncate = False)"
   ]
  },
  {
   "cell_type": "code",
   "execution_count": 66,
   "metadata": {},
   "outputs": [
    {
     "name": "stdout",
     "output_type": "stream",
     "text": [
      "+--------------------+--------------------+------------------+--------------------+\n",
      "|            CATEGORY|               Slope|                R2|            features|\n",
      "+--------------------+--------------------+------------------+--------------------+\n",
      "|    Personal Finance| 3.095318445488712E8|0.5257188832329653|[3.09531844548871...|\n",
      "|Reviews and Recom...| 9.384350510535592E7|0.6748252913534014|[9.38435051053559...|\n",
      "|         Health Care|1.0898642181609554E9|0.8747611056595744|[1.08986421816095...|\n",
      "|Application Perfo...|1.4638639037091857E8|0.5668998218851391|[1.46386390370918...|\n",
      "|        Credit Cards| 6.334192286089984E7|0.5027780036421108|[6.33419228608998...|\n",
      "+--------------------+--------------------+------------------+--------------------+\n",
      "only showing top 5 rows\n",
      "\n"
     ]
    }
   ],
   "source": [
    "from pyspark.ml.feature import VectorAssembler\n",
    "\n",
    "vectorAssembler = VectorAssembler(inputCols = ['Slope', 'R2' ], outputCol = 'features')\n",
    "featureDF = vectorAssembler.transform(regressionDF).select('CATEGORY','Slope', col('R2').alias('R2'), 'features')\n",
    "\n",
    "featureDF.show(5)"
   ]
  },
  {
   "cell_type": "code",
   "execution_count": 67,
   "metadata": {},
   "outputs": [
    {
     "name": "stdout",
     "output_type": "stream",
     "text": [
      "Silhouette with squared euclidean distance = 0.888995261361734\n",
      "Cluster Centers: \n",
      "[1.18933606e+08 5.94876400e-01]\n",
      "[1.87848508e+09 6.79532094e-01]\n",
      "[6.81651489e+08 6.60692117e-01]\n"
     ]
    }
   ],
   "source": [
    "from pyspark.ml.clustering import KMeans\n",
    "from pyspark.ml.evaluation import ClusteringEvaluator\n",
    "\n",
    "# Trains a k-means model.\n",
    "kmeans = KMeans().setK(3).setSeed(1)\n",
    "model = kmeans.fit(featureDF)\n",
    "\n",
    "# Make predictions\n",
    "predictions = model.transform(featureDF)\n",
    "\n",
    "# Evaluate clustering by computing Silhouette score\n",
    "evaluator = ClusteringEvaluator()\n",
    "\n",
    "silhouette = evaluator.evaluate(predictions)\n",
    "print(\"Silhouette with squared euclidean distance = \" + str(silhouette))\n",
    "\n",
    "# Shows the result.\n",
    "centers = model.clusterCenters()\n",
    "print(\"Cluster Centers: \")\n",
    "for center in centers:\n",
    "    print(center)"
   ]
  },
  {
   "cell_type": "code",
   "execution_count": 68,
   "metadata": {},
   "outputs": [
    {
     "name": "stdout",
     "output_type": "stream",
     "text": [
      "+--------------------+--------------------+------------------+--------------------+----------+\n",
      "|            CATEGORY|               Slope|                R2|            features|prediction|\n",
      "+--------------------+--------------------+------------------+--------------------+----------+\n",
      "|    Personal Finance| 3.095318445488712E8|0.5257188832329653|[3.09531844548871...|         0|\n",
      "|Reviews and Recom...| 9.384350510535592E7|0.6748252913534014|[9.38435051053559...|         0|\n",
      "|         Health Care|1.0898642181609554E9|0.8747611056595744|[1.08986421816095...|         2|\n",
      "|Application Perfo...|1.4638639037091857E8|0.5668998218851391|[1.46386390370918...|         0|\n",
      "|        Credit Cards| 6.334192286089984E7|0.5027780036421108|[6.33419228608998...|         0|\n",
      "|       Collaboration| 2.887291813020192E8|0.5577629546359806|[2.88729181302019...|         0|\n",
      "|               Video|2.9897157098892593E8|0.6270858327162601|[2.98971570988925...|         0|\n",
      "|   Retail Technology| 5.094359176492772E7|0.5065814877897405|[5.09435917649277...|         0|\n",
      "|              EdTech|2.0676416621879643E8|0.6253133179808453|[2.06764166218796...|         0|\n",
      "|                 SEO|3.2833537335526306E7|0.5567569012102664|[3.28335373355263...|         0|\n",
      "|            Security|  4.17640613008209E8|0.6110471335674124|[4.17640613008209...|         2|\n",
      "|     Brand Marketing|1.0830361718788993E8|0.6773067149915923|[1.08303617187889...|         0|\n",
      "|             Fashion|5.0602394105181247E8|0.6719792518791302|[5.06023941051812...|         2|\n",
      "|                 iOS|1.3377519384704083E8|0.7182528190870081|[1.33775193847040...|         0|\n",
      "|    Machine Learning| 3.902239390891047E8|0.5892549781300859|[3.90223939089104...|         0|\n",
      "|          Accounting|5.9014078632302575E7|0.6406420426161794|[5.90140786323025...|         0|\n",
      "|              iPhone|1.3658707983771938E8|0.7672261239183165|[1.36587079837719...|         0|\n",
      "|     Cloud Computing| 6.585981304728082E8|0.6479952335985817|[6.58598130472808...|         2|\n",
      "|       IT Management| 3.444756770722772E7| 0.538423219014543|[3.44475677072277...|         0|\n",
      "|Marketing Automation|1.1972412687635171E8|0.5245369647977933|[1.19724126876351...|         0|\n",
      "+--------------------+--------------------+------------------+--------------------+----------+\n",
      "only showing top 20 rows\n",
      "\n"
     ]
    }
   ],
   "source": [
    "predictions.show()"
   ]
  },
  {
   "cell_type": "code",
   "execution_count": 69,
   "metadata": {},
   "outputs": [],
   "source": [
    "slope = [row.Slope for row in predictions.collect()]\n",
    "projected = [row.R2 for row in predictions.collect()]\n",
    "color = [row.prediction for row in predictions.collect()]"
   ]
  },
  {
   "cell_type": "code",
   "execution_count": null,
   "metadata": {},
   "outputs": [],
   "source": [
    "plt.figure(figsize=(15,10))\n",
    "plt.scatter(slope, projected, c=color)\n",
    "plt.savefig('KMeansCluster.png' , pi=300, quality =95 )\n",
    "plt.show()"
   ]
  },
  {
   "cell_type": "code",
   "execution_count": null,
   "metadata": {},
   "outputs": [],
   "source": []
  },
  {
   "cell_type": "code",
   "execution_count": null,
   "metadata": {},
   "outputs": [],
   "source": []
  },
  {
   "cell_type": "code",
   "execution_count": null,
   "metadata": {},
   "outputs": [],
   "source": []
  }
 ],
 "metadata": {
  "kernelspec": {
   "display_name": "Python 3",
   "language": "python",
   "name": "python3"
  },
  "language_info": {
   "codemirror_mode": {
    "name": "ipython",
    "version": 3
   },
   "file_extension": ".py",
   "mimetype": "text/x-python",
   "name": "python",
   "nbconvert_exporter": "python",
   "pygments_lexer": "ipython3",
   "version": "3.6.9"
  }
 },
 "nbformat": 4,
 "nbformat_minor": 4
}
